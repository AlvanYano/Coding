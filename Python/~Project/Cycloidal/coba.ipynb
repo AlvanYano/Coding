{
 "cells": [
  {
   "cell_type": "code",
   "execution_count": 1,
   "id": "13287d76",
   "metadata": {},
   "outputs": [
    {
     "ename": "ModuleNotFoundError",
     "evalue": "No module named 'matplotlib'",
     "output_type": "error",
     "traceback": [
      "\u001b[31m---------------------------------------------------------------------------\u001b[39m",
      "\u001b[31mModuleNotFoundError\u001b[39m                       Traceback (most recent call last)",
      "\u001b[36mCell\u001b[39m\u001b[36m \u001b[39m\u001b[32mIn[1]\u001b[39m\u001b[32m, line 2\u001b[39m\n\u001b[32m      1\u001b[39m \u001b[38;5;28;01mimport\u001b[39;00m\u001b[38;5;250m \u001b[39m\u001b[34;01mnumpy\u001b[39;00m\u001b[38;5;250m \u001b[39m\u001b[38;5;28;01mas\u001b[39;00m\u001b[38;5;250m \u001b[39m\u001b[34;01mnp\u001b[39;00m\n\u001b[32m----> \u001b[39m\u001b[32m2\u001b[39m \u001b[38;5;28;01mimport\u001b[39;00m\u001b[38;5;250m \u001b[39m\u001b[34;01mmatplotlib\u001b[39;00m\u001b[34;01m.\u001b[39;00m\u001b[34;01mpyplot\u001b[39;00m\u001b[38;5;250m \u001b[39m\u001b[38;5;28;01mas\u001b[39;00m\u001b[38;5;250m \u001b[39m\u001b[34;01mplt\u001b[39;00m\n\u001b[32m      3\u001b[39m \u001b[38;5;28;01mfrom\u001b[39;00m\u001b[38;5;250m \u001b[39m\u001b[34;01mipywidgets\u001b[39;00m\u001b[38;5;250m \u001b[39m\u001b[38;5;28;01mimport\u001b[39;00m interact, FloatSlider, IntSlider\n\u001b[32m      4\u001b[39m \u001b[38;5;28;01mimport\u001b[39;00m\u001b[38;5;250m \u001b[39m\u001b[34;01mmatplotlib\u001b[39;00m\u001b[34;01m.\u001b[39;00m\u001b[34;01mpatches\u001b[39;00m\u001b[38;5;250m \u001b[39m\u001b[38;5;28;01mas\u001b[39;00m\u001b[38;5;250m \u001b[39m\u001b[34;01mpatches\u001b[39;00m\n",
      "\u001b[31mModuleNotFoundError\u001b[39m: No module named 'matplotlib'"
     ]
    }
   ],
   "source": [
    "import numpy as np\n",
    "import matplotlib.pyplot as plt\n",
    "from ipywidgets import interact, FloatSlider, IntSlider\n",
    "import matplotlib.patches as patches\n",
    "\n",
    "def plot_cycloidal_drive(E=1.0, n_out=6, R_o=15.0, r_o=2.0, theta_drive=0.0):\n",
    "    r1 = 27\n",
    "    r2 = 2.76\n",
    "    N = 17\n",
    "    theta_vals = np.linspace(0, 2 * np.pi, 1000)\n",
    "\n",
    "    phi_vals = np.arctan2(\n",
    "        np.sin((1 - N) * theta_vals),\n",
    "        (r1 / (E * N)) - np.cos((1 - N) * theta_vals)\n",
    "    )\n",
    "    X_d = r1 * np.cos(theta_vals) - r2 * np.cos(theta_vals + phi_vals) - E * np.cos(N * theta_vals)\n",
    "    Y_d = r1 * np.sin(theta_vals) - r2 * np.sin(theta_vals + phi_vals) - E * np.sin(N * theta_vals)\n",
    "\n",
    "    ring_pin_x = [r1 * np.cos(2 * np.pi * k / N) for k in range(N)]\n",
    "    ring_pin_y = [r1 * np.sin(2 * np.pi * k / N) for k in range(N)]\n",
    "\n",
    "    X_c = -E * np.cos(theta_drive)\n",
    "    Y_c = -E * np.sin(theta_drive)\n",
    "\n",
    "    output_x = [X_c + R_o * np.cos(2 * np.pi * k / n_out + N * theta_drive) for k in range(n_out)]\n",
    "    output_y = [Y_c + R_o * np.sin(2 * np.pi * k / n_out + N * theta_drive) for k in range(n_out)]\n",
    "\n",
    "    fig, ax = plt.subplots(figsize=(8, 8))\n",
    "    ax.plot(X_d, Y_d, 'k-', label=\"Cycloidal Disc Profile\")\n",
    "    ax.scatter(ring_pin_x, ring_pin_y, color='blue', label=\"Fixed Ring Pins\")\n",
    "    ax.scatter(output_x, output_y, color='green', label=\"Output Holes\")\n",
    "\n",
    "    for x, y in zip(ring_pin_x, ring_pin_y):\n",
    "        ax.add_patch(patches.Circle((x, y), r2, edgecolor='blue', fill=False, linestyle='--'))\n",
    "\n",
    "    for x, y in zip(output_x, output_y):\n",
    "        ax.add_patch(patches.Circle((x, y), r_o, edgecolor='green', fill=False, linestyle='--'))\n",
    "\n",
    "    input_circle_radius = r2 * N / np.pi\n",
    "    ax.add_patch(patches.Circle((X_c, Y_c), input_circle_radius, edgecolor='red', fill=False, linestyle='--', label='Input Bearing'))\n",
    "\n",
    "    ax.set_aspect('equal')\n",
    "    ax.grid(True)\n",
    "    ax.legend()\n",
    "    ax.set_title(\"Cycloidal Drive (Dynamic)\")\n",
    "    plt.show()\n",
    "\n",
    "interact(\n",
    "    plot_cycloidal_drive,\n",
    "    E=FloatSlider(value=1.0, min=0.5, max=3.0, step=0.1, description='Eccentricity'),\n",
    "    n_out=IntSlider(value=6, min=3, max=12, step=1, description='Output Holes'),\n",
    "    R_o=FloatSlider(value=15.0, min=5.0, max=25.0, step=0.5, description='Output Radius'),\n",
    "    r_o=FloatSlider(value=2.0, min=0.5, max=5.0, step=0.1, description='Hole Size'),\n",
    "    theta_drive=FloatSlider(value=0.0, min=0, max=2*np.pi, step=0.05, description='Theta')\n",
    ")\n"
   ]
  }
 ],
 "metadata": {
  "kernelspec": {
   "display_name": "Python 3",
   "language": "python",
   "name": "python3"
  },
  "language_info": {
   "codemirror_mode": {
    "name": "ipython",
    "version": 3
   },
   "file_extension": ".py",
   "mimetype": "text/x-python",
   "name": "python",
   "nbconvert_exporter": "python",
   "pygments_lexer": "ipython3",
   "version": "3.13.2"
  }
 },
 "nbformat": 4,
 "nbformat_minor": 5
}

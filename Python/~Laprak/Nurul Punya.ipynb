{
 "cells": [
  {
   "cell_type": "code",
   "execution_count": 1,
   "id": "100773dd",
   "metadata": {},
   "outputs": [
    {
     "name": "stdout",
     "output_type": "stream",
     "text": [
      "halo alpan\n"
     ]
    }
   ],
   "source": [
    "print(\"halo alpan\")"
   ]
  },
  {
   "cell_type": "code",
   "execution_count": 2,
   "id": "9eed794f",
   "metadata": {},
   "outputs": [
    {
     "name": "stdout",
     "output_type": "stream",
     "text": [
      "12000\n",
      "10000\n",
      "2500\n",
      "4000\n",
      "2000\n"
     ]
    }
   ],
   "source": [
    "#kondisional if\n",
    "nurul = 12000\n",
    "alpan = 10000\n",
    "nesa = 4000\n",
    "tita = 2500\n",
    "danul = 2000\n",
    "print(nurul)\n",
    "print(alpan)\n",
    "print(tita)\n",
    "print(nesa)\n",
    "print(danul)"
   ]
  },
  {
   "cell_type": "code",
   "execution_count": 3,
   "id": "acfa748d",
   "metadata": {},
   "outputs": [
    {
     "name": "stdout",
     "output_type": "stream",
     "text": [
      "fislis lebih besar dari alprog\n"
     ]
    }
   ],
   "source": [
    "#pernyataan if-else\n",
    "alprog = 2106009\n",
    "fislis = 2106047\n",
    "if alprog > fislis:\n",
    "    print(\"alprog lebih besar dari fislis\")\n",
    "else:\n",
    "    print(\"fislis lebih besar dari alprog\")"
   ]
  },
  {
   "cell_type": "code",
   "execution_count": 6,
   "id": "8213d1fe",
   "metadata": {},
   "outputs": [
    {
     "name": "stdout",
     "output_type": "stream",
     "text": [
      "kecil\n"
     ]
    }
   ],
   "source": [
    "print(\"besar\") if alprog > fislis else print(\"kecil\")"
   ]
  },
  {
   "cell_type": "code",
   "execution_count": 7,
   "id": "594a147a",
   "metadata": {},
   "outputs": [
    {
     "name": "stdout",
     "output_type": "stream",
     "text": [
      "Bisa naik\n",
      "nggak perlu diawasi\n"
     ]
    }
   ],
   "source": [
    "#nested bersarang\n",
    "umur_orang = 19\n",
    "if umur_orang > 7:\n",
    "    print(\"Bisa naik\")\n",
    "    if umur_orang > 18:\n",
    "        print(\"nggak perlu diawasi\")\n",
    "    else:\n",
    "        print(\"dit tolongin dit\")\n",
    "else:\n",
    "    print(\"nggak boleh\")\n"
   ]
  },
  {
   "cell_type": "code",
   "execution_count": 8,
   "id": "f9502cc9",
   "metadata": {},
   "outputs": [
    {
     "name": "stdout",
     "output_type": "stream",
     "text": [
      "kost ber AC dan kamar mandi dalam\n"
     ]
    }
   ],
   "source": [
    "#if-elif-else\n",
    "#program kualifikasi kualitas kos tembalang sesuai harga \n",
    "uang = 1500000\n",
    "\n",
    "if uang >= 20000000:\n",
    "    print(\"kost rasa apartemen\")\n",
    "elif uang >= 1200000 and uang <= 20000000:\n",
    "    print(\"kost ber AC dan kamar mandi dalam\")\n",
    "elif uang >= 800000 and uang <= 1200000:\n",
    "    print(\"kost ber AC dan kamar mandi luar\")\n",
    "elif uang >= 500000 and uang <= 800000:\n",
    "    print(\"kost non AC kamar mandi luar\")\n",
    "else:\n",
    "    print(\"dit tolongin dit\")"
   ]
  },
  {
   "cell_type": "code",
   "execution_count": 9,
   "id": "e0361e97",
   "metadata": {},
   "outputs": [
    {
     "name": "stdout",
     "output_type": "stream",
     "text": [
      "bukan steak mewah\n"
     ]
    }
   ],
   "source": [
    "#pass\n",
    "harga_steak = 60000\n",
    "if harga_steak > 100000:\n",
    "    pass\n",
    "else:\n",
    "    print(\"bukan steak mewah\")"
   ]
  },
  {
   "cell_type": "code",
   "execution_count": 13,
   "id": "8c279b8b",
   "metadata": {},
   "outputs": [
    {
     "name": "stdout",
     "output_type": "stream",
     "text": [
      "bella\n",
      "anna\n",
      "elsa\n",
      "ariel\n"
     ]
    }
   ],
   "source": [
    "#looping on array/list\n",
    "list_siswa = [\"bella\",\"anna\",\"elsa\",\"ariel\"]\n",
    "for siswa in list_siswa:\n",
    "    print(siswa)"
   ]
  },
  {
   "cell_type": "code",
   "execution_count": null,
   "id": "45ea5378",
   "metadata": {},
   "outputs": [],
   "source": [
    "#break dalam for\n",
    "jumat_berkah_enak = [\"alfalah\",\"maskam\",\"FEB\"]\n",
    "for makanan in jumat_berkah_enak:\n",
    "    print()"
   ]
  },
  {
   "cell_type": "code",
   "execution_count": 16,
   "id": "a0970370",
   "metadata": {},
   "outputs": [
    {
     "name": "stdout",
     "output_type": "stream",
     "text": [
      "persdif gampang banget\n",
      "persdif gampang banget\n",
      "persdif gampang banget\n",
      "persdif gampang banget\n",
      "persdif gampang banget\n",
      "persdif gampang banget\n"
     ]
    }
   ],
   "source": [
    "#range()\n",
    "for i in range(6):\n",
    "    print(\"persdif gampang banget\")"
   ]
  },
  {
   "cell_type": "code",
   "execution_count": 17,
   "id": "2b03613c",
   "metadata": {},
   "outputs": [
    {
     "name": "stdout",
     "output_type": "stream",
     "text": [
      "0\n",
      "1\n",
      "3\n",
      "4\n"
     ]
    }
   ],
   "source": [
    "#continue dalam for\n",
    "for i in range (5):\n",
    "    if i == 2:\n",
    "        continue\n",
    "    print (i)"
   ]
  },
  {
   "cell_type": "code",
   "execution_count": 18,
   "id": "74bb66a0",
   "metadata": {},
   "outputs": [
    {
     "name": "stdout",
     "output_type": "stream",
     "text": [
      "3\n",
      "5\n",
      "7\n"
     ]
    }
   ],
   "source": [
    "#range() 3 parameter\n",
    "start = 3\n",
    "stop = 9\n",
    "step = 2\n",
    "for y in range (start, stop, step):\n",
    "    print(y)"
   ]
  },
  {
   "cell_type": "code",
   "execution_count": null,
   "id": "84ac3183",
   "metadata": {},
   "outputs": [],
   "source": [
    "#break and continue\n",
    "#break --> stop loop\n",
    "#continue --> next the loop\n",
    "i =1 \n",
    "while i <8:\n",
    "    print(i)\n",
    "    i += 1\n",
    "    if i == 6:\n",
    "        break"
   ]
  },
  {
   "cell_type": "code",
   "execution_count": 19,
   "id": "9bc9d1d6",
   "metadata": {},
   "outputs": [
    {
     "name": "stdout",
     "output_type": "stream",
     "text": [
      "hitam kekar\n",
      "hitam lemas\n",
      "hitam kokoh\n",
      "panjang kekar\n",
      "panjang lemas\n",
      "panjang kokoh\n",
      "besar kekar\n",
      "besar lemas\n",
      "besar kokoh\n"
     ]
    }
   ],
   "source": [
    "#nested looping\n",
    "sifat = [\"hitam\",\"panjang\",\"besar\"]\n",
    "karakter = [\"kekar\",\"lemas\",\"kokoh\"]\n",
    "for p in sifat :\n",
    "    for i in karakter:\n",
    "        print(p,i)"
   ]
  },
  {
   "cell_type": "code",
   "execution_count": 20,
   "id": "4418545a",
   "metadata": {},
   "outputs": [],
   "source": [
    "#pass di looping\n",
    "for a in range (1,4, 5):\n",
    "    pass"
   ]
  },
  {
   "cell_type": "code",
   "execution_count": null,
   "id": "50ed5316",
   "metadata": {},
   "outputs": [],
   "source": [
    "#membuat matriks menggunakan for dan list\n",
    "matriks_NIM = []\n",
    "for i in range(0,5):\n",
    "    baris_matriks = []\n",
    "    for j in range (0,3):\n",
    "        isi_NIM = int(\"Masukan 3 digit terakkhir NIM anda: \")"
   ]
  },
  {
   "cell_type": "code",
   "execution_count": null,
   "id": "ba2e3bf8",
   "metadata": {},
   "outputs": [],
   "source": []
  },
  {
   "cell_type": "code",
   "execution_count": 21,
   "id": "b2fddab9",
   "metadata": {},
   "outputs": [],
   "source": [
    "import numpy"
   ]
  },
  {
   "cell_type": "code",
   "execution_count": null,
   "id": "d6f02ebc",
   "metadata": {},
   "outputs": [
    {
     "name": "stdout",
     "output_type": "stream",
     "text": [
      "[[1 2]\n",
      " [3 4]]\n"
     ]
    }
   ],
   "source": [
    "matriks_percobaan = numpy.array([[1,2],[3,4]])\n",
    "print(matriks_percobaan)"
   ]
  },
  {
   "cell_type": "code",
   "execution_count": 24,
   "id": "9e6cf42a",
   "metadata": {},
   "outputs": [
    {
     "name": "stdout",
     "output_type": "stream",
     "text": [
      "[[1 2]\n",
      " [3 4]]\n"
     ]
    }
   ],
   "source": [
    "import numpy as np\n",
    "matriks_percobaan = np.array([[1,2],[3,4]])\n",
    "print(matriks_percobaan)"
   ]
  },
  {
   "cell_type": "code",
   "execution_count": null,
   "id": "908195e3",
   "metadata": {},
   "outputs": [],
   "source": [
    "#aarray 3 dimensi indexing\n",
    "arra2D = wkwk.array([[1,2],[3,4]])\n",
    "print(arra2D)\n",
    "print(arra2D[0])\n",
    "print\n"
   ]
  },
  {
   "cell_type": "code",
   "execution_count": 25,
   "id": "3267646b",
   "metadata": {},
   "outputs": [
    {
     "name": "stdout",
     "output_type": "stream",
     "text": [
      "5\n"
     ]
    }
   ],
   "source": [
    "#array pada numpy\n",
    "#array 0 dimensi\n",
    "import numpy as wkwk\n",
    "D0 = wkwk.array(5)\n",
    "print(D0)"
   ]
  },
  {
   "cell_type": "code",
   "execution_count": null,
   "id": "4cfd1b30",
   "metadata": {},
   "outputs": [],
   "source": [
    "#array 3 dimensi\n",
    "D3 = wkwk.array([[1,2],[3,4]])"
   ]
  },
  {
   "cell_type": "code",
   "execution_count": null,
   "id": "3d9b7b8f",
   "metadata": {},
   "outputs": [],
   "source": []
  },
  {
   "cell_type": "code",
   "execution_count": null,
   "id": "8991395d",
   "metadata": {},
   "outputs": [],
   "source": [
    "#operasi aritmatika pada array 3 dimensi\n",
    "print"
   ]
  },
  {
   "cell_type": "code",
   "execution_count": null,
   "id": "98584368",
   "metadata": {},
   "outputs": [],
   "source": []
  },
  {
   "cell_type": "code",
   "execution_count": 26,
   "id": "7e064823",
   "metadata": {},
   "outputs": [
    {
     "ename": "TypeError",
     "evalue": "array() missing required argument 'object' (pos 0)",
     "output_type": "error",
     "traceback": [
      "\u001b[31m---------------------------------------------------------------------------\u001b[39m",
      "\u001b[31mTypeError\u001b[39m                                 Traceback (most recent call last)",
      "\u001b[36mCell\u001b[39m\u001b[36m \u001b[39m\u001b[32mIn[26]\u001b[39m\u001b[32m, line 2\u001b[39m\n\u001b[32m      1\u001b[39m \u001b[38;5;66;03m#tipe data pada numpy\u001b[39;00m\n\u001b[32m----> \u001b[39m\u001b[32m2\u001b[39m ara_ara = \u001b[43mwkwk\u001b[49m\u001b[43m.\u001b[49m\u001b[43marray\u001b[49m\u001b[43m(\u001b[49m\u001b[43m)\u001b[49m\n",
      "\u001b[31mTypeError\u001b[39m: array() missing required argument 'object' (pos 0)"
     ]
    }
   ],
   "source": [
    "#tipe data pada numpy\n",
    "ara_ara = wkwk.array()"
   ]
  },
  {
   "cell_type": "code",
   "execution_count": null,
   "id": "17092a87",
   "metadata": {},
   "outputs": [],
   "source": [
    "#buat array dengan tipe data tertentu\n",
    "ara ara = wkwk.array?"
   ]
  },
  {
   "cell_type": "code",
   "execution_count": null,
   "id": "140a38a8",
   "metadata": {},
   "outputs": [],
   "source": [
    "#konversi jenis data pada array\n",
    "import numpy as np\n",
    "arr_lama = np.array([1.1,1.2,1.3])\n"
   ]
  },
  {
   "cell_type": "code",
   "execution_count": 27,
   "id": "2d9d395f",
   "metadata": {},
   "outputs": [
    {
     "name": "stdout",
     "output_type": "stream",
     "text": [
      "[1 2 3]\n"
     ]
    },
    {
     "ename": "IndexError",
     "evalue": "index 3 is out of bounds for axis 0 with size 3",
     "output_type": "error",
     "traceback": [
      "\u001b[31m---------------------------------------------------------------------------\u001b[39m",
      "\u001b[31mIndexError\u001b[39m                                Traceback (most recent call last)",
      "\u001b[36mCell\u001b[39m\u001b[36m \u001b[39m\u001b[32mIn[27]\u001b[39m\u001b[32m, line 6\u001b[39m\n\u001b[32m      4\u001b[39m \u001b[38;5;28mprint\u001b[39m(nomer_tugel)\n\u001b[32m      5\u001b[39m p = nomer_tugel.copy()\n\u001b[32m----> \u001b[39m\u001b[32m6\u001b[39m \u001b[43mnomer_tugel\u001b[49m\u001b[43m[\u001b[49m\u001b[32;43m3\u001b[39;49m\u001b[43m]\u001b[49m=\u001b[32m45\u001b[39m\n\u001b[32m      7\u001b[39m \u001b[38;5;28mprint\u001b[39m(nomer_tugel)\n\u001b[32m      8\u001b[39m \u001b[38;5;28mprint\u001b[39m(p)\n",
      "\u001b[31mIndexError\u001b[39m: index 3 is out of bounds for axis 0 with size 3"
     ]
    }
   ],
   "source": [
    "#menyalin array\n",
    "#copy\n",
    "nomer_tugel = np.array([1,2,3])\n",
    "print(nomer_tugel)\n",
    "p = nomer_tugel.copy()\n",
    "nomer_tugel[3]=45\n",
    "print(nomer_tugel)\n",
    "print(p)"
   ]
  },
  {
   "cell_type": "code",
   "execution_count": null,
   "id": "48a0a8aa",
   "metadata": {},
   "outputs": [],
   "source": [
    "#view\n",
    "nomer_tugel = np.array([1,2,3])\n",
    "print(nomer_tugel)\n",
    "q = nomer_tokek.view()\n"
   ]
  }
 ],
 "metadata": {
  "kernelspec": {
   "display_name": "Python 3",
   "language": "python",
   "name": "python3"
  },
  "language_info": {
   "codemirror_mode": {
    "name": "ipython",
    "version": 3
   },
   "file_extension": ".py",
   "mimetype": "text/x-python",
   "name": "python",
   "nbconvert_exporter": "python",
   "pygments_lexer": "ipython3",
   "version": "3.13.2"
  }
 },
 "nbformat": 4,
 "nbformat_minor": 5
}

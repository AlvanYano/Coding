{
 "cells": [
  {
   "cell_type": "code",
   "execution_count": 6,
   "id": "51296c9a",
   "metadata": {},
   "outputs": [
    {
     "name": "stdout",
     "output_type": "stream",
     "text": [
      " b lebih besar dari a\n"
     ]
    }
   ],
   "source": [
    "a = 33\n",
    "b = 200\n",
    "\n",
    "if b > a:\n",
    "    print(' b lebih besar dari a')"
   ]
  },
  {
   "cell_type": "code",
   "execution_count": 53,
   "id": "b7a3a32e",
   "metadata": {},
   "outputs": [
    {
     "ename": "IndentationError",
     "evalue": "expected an indented block after 'if' statement on line 2 (2227168228.py, line 3)",
     "output_type": "error",
     "traceback": [
      "  \u001b[36mCell\u001b[39m\u001b[36m \u001b[39m\u001b[32mIn[53]\u001b[39m\u001b[32m, line 3\u001b[39m\n\u001b[31m    \u001b[39m\u001b[31mprint(' b lebih besar dari a')\u001b[39m\n    ^\n\u001b[31mIndentationError\u001b[39m\u001b[31m:\u001b[39m expected an indented block after 'if' statement on line 2\n"
     ]
    }
   ],
   "source": [
    "# indentasi\n",
    "if b > a:\n",
    "print(' b lebih besar dari a')"
   ]
  },
  {
   "cell_type": "code",
   "execution_count": 10,
   "id": "0f4ac59c",
   "metadata": {},
   "outputs": [
    {
     "name": "stdout",
     "output_type": "stream",
     "text": [
      " b lebih besar dari a\n"
     ]
    }
   ],
   "source": [
    "# indentasi\n",
    "if b > a:\n",
    "    print(' b lebih besar dari a')\n",
    "elif a == b:\n",
    "    print(' a sama dengan b')"
   ]
  },
  {
   "cell_type": "code",
   "execution_count": null,
   "id": "0ca01a83",
   "metadata": {},
   "outputs": [
    {
     "name": "stdout",
     "output_type": "stream",
     "text": [
      "b lebih besar dari a\n"
     ]
    }
   ],
   "source": [
    "# else\n",
    "if b < a:\n",
    "    print(' a lebih besar dari b')\n",
    "\n",
    "else:\n",
    "    print('b lebih besar dari a')"
   ]
  },
  {
   "cell_type": "code",
   "execution_count": 2,
   "id": "8fc43b58",
   "metadata": {},
   "outputs": [
    {
     "name": "stdout",
     "output_type": "stream",
     "text": [
      " a lebih besar dari b\n"
     ]
    }
   ],
   "source": [
    "#  bentuk if yang pendek\n",
    "a = 30\n",
    "b = 20\n",
    "\n",
    "if a > b: print(' a lebih besar dari b')"
   ]
  },
  {
   "cell_type": "code",
   "execution_count": 25,
   "id": "8f5f7e26",
   "metadata": {},
   "outputs": [
    {
     "name": "stdout",
     "output_type": "stream",
     "text": [
      "a\n",
      "a\n"
     ]
    }
   ],
   "source": [
    "a = 330\n",
    "b = 330\n",
    "\n",
    "print (\"a\") if a == b else print(\"b\") if b == a else print(\"B\")\n",
    "\n",
    "print(\"a\" if a == b else \"b\" if b == a else \"B\")"
   ]
  },
  {
   "cell_type": "code",
   "execution_count": 5,
   "id": "895201f6",
   "metadata": {},
   "outputs": [
    {
     "name": "stdout",
     "output_type": "stream",
     "text": [
      "kedua kondisi benar\n"
     ]
    }
   ],
   "source": [
    "# Penggunaan and\n",
    "a = 600\n",
    "b = 400\n",
    "c = 500\n",
    "\n",
    "if a > b and c < a:\n",
    "    print(\"kedua kondisi benar\")    "
   ]
  },
  {
   "cell_type": "code",
   "execution_count": 6,
   "id": "9be3f80a",
   "metadata": {},
   "outputs": [
    {
     "name": "stdout",
     "output_type": "stream",
     "text": [
      "x di atas 19\n",
      "dan juga lebih dari 30\n"
     ]
    }
   ],
   "source": [
    "# Nested if\n",
    "x = 33\n",
    "\n",
    "if x > 19:\n",
    "    print(\"x di atas 19\")\n",
    "\n",
    "    if x > 30 :\n",
    "        print(\"dan juga lebih dari 30\")\n",
    "\n",
    "    else:\n",
    "        print(\"tetapi di bawah 30\")"
   ]
  },
  {
   "cell_type": "code",
   "execution_count": 27,
   "id": "ae223a12",
   "metadata": {},
   "outputs": [
    {
     "name": "stdout",
     "output_type": "stream",
     "text": [
      "ok\n"
     ]
    }
   ],
   "source": [
    "# pass \n",
    "nilai1 = 22\n",
    "nilai2 = 300\n",
    "\n",
    "if b > a:\n",
    "    pass\n",
    "else:\n",
    "    print(\"ok\")"
   ]
  },
  {
   "cell_type": "code",
   "execution_count": 28,
   "id": "4cf3f875",
   "metadata": {},
   "outputs": [
    {
     "name": "stdout",
     "output_type": "stream",
     "text": [
      "1\n",
      "2\n",
      "3\n",
      "4\n",
      "5\n",
      "6\n"
     ]
    }
   ],
   "source": [
    "# perulangan\n",
    "i = 1\n",
    "\n",
    "while i <= 6:\n",
    "    print(i)\n",
    "    i += 1      "
   ]
  },
  {
   "cell_type": "code",
   "execution_count": 31,
   "id": "43fb9d85",
   "metadata": {},
   "outputs": [
    {
     "name": "stdout",
     "output_type": "stream",
     "text": [
      "1\n",
      "0\n",
      "-1\n",
      "-2\n"
     ]
    }
   ],
   "source": [
    "# pernyataan break\n",
    "i = 1\n",
    "\n",
    "while i >= -10:\n",
    "    print(i)\n",
    "    if i == -2:\n",
    "        break\n",
    "\n",
    "    i -= 1\n",
    "    \n"
   ]
  },
  {
   "cell_type": "code",
   "execution_count": 33,
   "id": "728a44c9",
   "metadata": {},
   "outputs": [
    {
     "name": "stdout",
     "output_type": "stream",
     "text": [
      "0\n",
      "-1\n",
      "-3\n",
      "-4\n",
      "-5\n",
      "-6\n",
      "-7\n",
      "-8\n",
      "-9\n",
      "-10\n",
      "-11\n"
     ]
    }
   ],
   "source": [
    "# pernyataan break\n",
    "i = 1\n",
    "\n",
    "while i >= -10:\n",
    "    i -= 1\n",
    "    if i == -2:\n",
    "        continue\n",
    "\n",
    "    print(i)\n",
    "    \n"
   ]
  },
  {
   "cell_type": "code",
   "execution_count": null,
   "id": "f1249ee7",
   "metadata": {},
   "outputs": [
    {
     "name": "stdout",
     "output_type": "stream",
     "text": [
      "1\n",
      "2\n",
      "3\n",
      "4\n",
      "5\n",
      "i sudah berhenti 6\n"
     ]
    }
   ],
   "source": [
    "# else\n",
    "\n",
    "i = 1\n",
    "while i < 6:\n",
    "    print(i)\n",
    "    i += 1\n",
    "else:\n",
    "    print(\"i sudah berhenti 6\")\n"
   ]
  },
  {
   "cell_type": "code",
   "execution_count": 38,
   "id": "edeb2b92",
   "metadata": {},
   "outputs": [
    {
     "name": "stdout",
     "output_type": "stream",
     "text": [
      "pisang\n",
      "anggur\n",
      "apel\n"
     ]
    }
   ],
   "source": [
    "# looping denan for\n",
    "\n",
    "buah = [\"pisang\", \"anggur\", \"apel\"]\n",
    "for x in buah:\n",
    "    print(x)"
   ]
  },
  {
   "cell_type": "code",
   "execution_count": 39,
   "id": "54def966",
   "metadata": {},
   "outputs": [
    {
     "name": "stdout",
     "output_type": "stream",
     "text": [
      "k\n",
      "a\n",
      "t\n",
      "a\n"
     ]
    }
   ],
   "source": [
    "string = \"kata\"\n",
    "\n",
    "for x in string:\n",
    "    print(x)"
   ]
  },
  {
   "cell_type": "code",
   "execution_count": null,
   "id": "a198a7ec",
   "metadata": {},
   "outputs": [
    {
     "name": "stdout",
     "output_type": "stream",
     "text": [
      "k\n",
      "a\n",
      "t\n",
      "a\n",
      " \n",
      " \n",
      "k\n",
      "a\n",
      "t\n",
      "a\n"
     ]
    }
   ],
   "source": [
    "# continue\n",
    "kata = \"kata - kata\"\n",
    "\n",
    "for huruf in kata:\n",
    "    if huruf == \"-\":\n",
    "        continue\n",
    "    print(huruf)\n"
   ]
  },
  {
   "cell_type": "code",
   "execution_count": 42,
   "id": "e3a3222c",
   "metadata": {},
   "outputs": [
    {
     "name": "stdout",
     "output_type": "stream",
     "text": [
      "angka ke - 0\n",
      "angka ke - 1\n",
      "angka ke - 2\n",
      "angka ke - 3\n",
      "angka ke - 4\n"
     ]
    }
   ],
   "source": [
    "# fungsi range()\n",
    "\n",
    "for i in range(5):\n",
    "    print(\"angka ke -\", str(i))"
   ]
  },
  {
   "cell_type": "code",
   "execution_count": 44,
   "id": "1b989245",
   "metadata": {},
   "outputs": [
    {
     "name": "stdout",
     "output_type": "stream",
     "text": [
      "angka ke - 2\n",
      "angka ke - 4\n",
      "angka sudah bernilai enam\n"
     ]
    }
   ],
   "source": [
    "for i in range(2, 6, 2):\n",
    "    print(\"angka ke -\", str(i))\n",
    "else :\n",
    "    print(\"angka sudah bernilai enam\")"
   ]
  },
  {
   "cell_type": "code",
   "execution_count": 45,
   "id": "724f061d",
   "metadata": {},
   "outputs": [
    {
     "name": "stdout",
     "output_type": "stream",
     "text": [
      "durian besar\n",
      "durian sedang\n",
      "durian kecil\n",
      "mangga besar\n",
      "mangga sedang\n",
      "mangga kecil\n"
     ]
    }
   ],
   "source": [
    "# perulangan bersarang\n",
    "tipe_ukuran = [\"besar\", \"sedang\", \"kecil\"]   \n",
    "kumpulan_buah = [\"durian\", \"mangga\"]\n",
    "\n",
    "for buah in kumpulan_buah:\n",
    "    for ukuran_buah in tipe_ukuran:\n",
    "        print(buah, ukuran_buah)"
   ]
  },
  {
   "cell_type": "code",
   "execution_count": 50,
   "id": "3dfa5114",
   "metadata": {},
   "outputs": [
    {
     "name": "stdout",
     "output_type": "stream",
     "text": [
      "1.1\n",
      "1.2\n",
      "2.1\n",
      "2.2\n",
      "3.1\n",
      "3.2\n"
     ]
    }
   ],
   "source": [
    "# range bersarang\n",
    "for i in range(1,4):\n",
    "    for j in range(1,3):\n",
    "        print(str(i) + '.' + str(j))"
   ]
  },
  {
   "cell_type": "code",
   "execution_count": null,
   "id": "72e070ff",
   "metadata": {},
   "outputs": [],
   "source": [
    "# pernyataan pass\n",
    "for x in [2, 3, 4]:\n",
    "    pass # tidak ada keluaran"
   ]
  },
  {
   "cell_type": "markdown",
   "id": "34046f7f",
   "metadata": {},
   "source": [
    "Modul 5"
   ]
  },
  {
   "cell_type": "code",
   "execution_count": null,
   "id": "1b521e04",
   "metadata": {},
   "outputs": [],
   "source": [
    "import numpy as np"
   ]
  },
  {
   "cell_type": "code",
   "execution_count": 57,
   "id": "c548dade",
   "metadata": {},
   "outputs": [
    {
     "name": "stdout",
     "output_type": "stream",
     "text": [
      "[ 1  2  3  4  5  6  7  8  9 10]\n",
      "<class 'numpy.ndarray'>\n"
     ]
    }
   ],
   "source": [
    "arr = np.array([1, 2, 3, 4, 5, 6, 7 ,8, 9, 10])\n",
    "print(arr)\n",
    "\n",
    "print(type(arr))"
   ]
  },
  {
   "cell_type": "code",
   "execution_count": null,
   "id": "fa0646a5",
   "metadata": {},
   "outputs": [
    {
     "name": "stdout",
     "output_type": "stream",
     "text": [
      "50\n",
      "[1 2 3 4 5]\n",
      "[[1 2 3]\n",
      " [4 5 6]]\n",
      "[[[ 1  2  3]\n",
      "  [ 4  5  6]]\n",
      "\n",
      " [[ 7  8  9]\n",
      "  [10 11 12]]]\n"
     ]
    }
   ],
   "source": [
    "arr = np.array(50) #array 0 dimensi\n",
    "arr1 = np.array([1,2,3,4,5]) # arrar 1 dimensi\n",
    "arr2 = np.array([[1,2,3],[4,5,6]]) # arrar 2 dimensi    \n",
    "arr3 = np.array([[[1,2,3],[4,5,6]],[[7,8,9],[10,11,12]]]) # arrar 3 dimensi\n",
    "\n",
    "print(arr)\n",
    "print(arr1)\n",
    "print(arr2)\n",
    "print(arr3) "
   ]
  },
  {
   "cell_type": "code",
   "execution_count": 62,
   "id": "80e5bb66",
   "metadata": {},
   "outputs": [
    {
     "name": "stdout",
     "output_type": "stream",
     "text": [
      "0\n",
      "1\n",
      "2\n",
      "3\n"
     ]
    }
   ],
   "source": [
    "arr = np.array(50) #arrar 0 dimensi\n",
    "arr1 = np.array([1,2,3,4,5]) # arrar 1 dimensi\n",
    "arr2 = np.array([[1,2,3],[4,5,6]]) # arrar 2 dimensi    \n",
    "arr3 = np.array([[[1,2,3],[4,5,6]],[[7,8,9],[10,11,12]]]) # arrar 3 dimensi\n",
    "\n",
    "\n",
    "print(arr.ndim)\n",
    "print(arr1.ndim)\n",
    "print(arr2.ndim)\n",
    "print(arr3.ndim) "
   ]
  },
  {
   "cell_type": "code",
   "execution_count": 64,
   "id": "386b9483",
   "metadata": {},
   "outputs": [
    {
     "name": "stdout",
     "output_type": "stream",
     "text": [
      "1\n",
      "2\n",
      "3\n",
      "5\n"
     ]
    }
   ],
   "source": [
    "#  indexing \n",
    "numbers = np.array([1, 2, 3, 4, 5, 6, 7, 8, 9, 10])\n",
    "\n",
    "print(numbers[0]) # 1\n",
    "print(numbers[1]) # 2\n",
    "print(numbers[2]) # 3\n",
    "\n",
    "print(numbers[0] + numbers[3]) # 4"
   ]
  },
  {
   "cell_type": "code",
   "execution_count": 65,
   "id": "797fc939",
   "metadata": {},
   "outputs": [
    {
     "name": "stdout",
     "output_type": "stream",
     "text": [
      "3\n"
     ]
    }
   ],
   "source": [
    "arr2 = np.array([[1,2,3],[4,5,6]]) # arrar 2 dimensi\n",
    "\n",
    "print(arr2[0, -1]) "
   ]
  },
  {
   "cell_type": "code",
   "execution_count": 66,
   "id": "7c5f6edf",
   "metadata": {},
   "outputs": [
    {
     "name": "stdout",
     "output_type": "stream",
     "text": [
      "6\n"
     ]
    }
   ],
   "source": [
    "arr3 = np.array([[[1,2,3],[4,5,6]],[[7,8,9],[10,11,12]]]) # arrar 3 dimensi\n",
    "\n",
    "print(arr3[0, 1, 2]) # 6   "
   ]
  },
  {
   "cell_type": "code",
   "execution_count": 3,
   "id": "fd223476",
   "metadata": {},
   "outputs": [
    {
     "name": "stdout",
     "output_type": "stream",
     "text": [
      "[2 3 4 5]\n",
      "[1 2 3 4 5]\n",
      "[1 2 3 4 5]\n",
      "[8 9]\n",
      "[ 1  2  3  4  5  6  7  8  9 10]\n",
      "[1 3 5 7 9]\n",
      "[ 1  2  3  4  5  6  7  8  9 10]\n",
      "[1 3 5]\n"
     ]
    }
   ],
   "source": [
    "# numpy array slicing\n",
    "import numpy as np\n",
    "\n",
    "arr = np.array([1, 2, 3, 4, 5, 6, 7, 8, 9, 10])\n",
    "print(arr[1:5]) \n",
    "\n",
    "print(arr[:5])\n",
    "print(arr[0:5])\n",
    "\n",
    "print(arr[-3:-1])\n",
    "\n",
    "print(arr)\n",
    "print(arr[::2]) # ambil setiap 2 angka\n",
    "\n",
    "# cetak dngan tahap\n",
    "print(arr)\n",
    "print (arr[0:5:2])"
   ]
  },
  {
   "cell_type": "code",
   "execution_count": 77,
   "id": "88267373",
   "metadata": {},
   "outputs": [
    {
     "name": "stdout",
     "output_type": "stream",
     "text": [
      "[1 2 3]\n",
      "[[1 2]\n",
      " [4 5]]\n"
     ]
    }
   ],
   "source": [
    "arr2 = np.array([[1,2,3],[4,5,6]]) # arrar 2 dimensi\n",
    "\n",
    "print(arr2[0, :3]) # 1\n",
    "\n",
    "print(arr2[:, :2]) \n"
   ]
  },
  {
   "cell_type": "code",
   "execution_count": 78,
   "id": "7bd76907",
   "metadata": {},
   "outputs": [
    {
     "name": "stdout",
     "output_type": "stream",
     "text": [
      "int64\n"
     ]
    }
   ],
   "source": [
    "# Tipe Data\n",
    "arr = np.array([1, 2, 3]) # arrar 1 dimensi\n",
    "\n",
    "original = arr.dtype\n",
    "print(original) # int64"
   ]
  },
  {
   "cell_type": "code",
   "execution_count": 80,
   "id": "21567e5b",
   "metadata": {},
   "outputs": [
    {
     "name": "stdout",
     "output_type": "stream",
     "text": [
      "<U9\n"
     ]
    }
   ],
   "source": [
    "elektronik = np.array([\"Komuputer\", \"laptop\"]) # arrar 1 dimensi\n",
    "print(elektronik.dtype) # float64"
   ]
  },
  {
   "cell_type": "code",
   "execution_count": 81,
   "id": "c8ebbc19",
   "metadata": {},
   "outputs": [
    {
     "name": "stdout",
     "output_type": "stream",
     "text": [
      "[1 2 3]\n",
      "int32\n"
     ]
    }
   ],
   "source": [
    "# membuat array dengan tipe data tertentu\n",
    "arr = np.array([1, 2, 3], dtype = 'i4') # arrar 1 dimensi\n",
    "print(arr)\n",
    "print(arr.dtype) # int32    "
   ]
  },
  {
   "cell_type": "code",
   "execution_count": 83,
   "id": "1af83079",
   "metadata": {},
   "outputs": [
    {
     "name": "stdout",
     "output_type": "stream",
     "text": [
      "[b'1' b'2' b'3']\n",
      "|S1\n"
     ]
    }
   ],
   "source": [
    "# membuat array dengan tipe data tertentu\n",
    "arr = np.array([1, 2, 3], dtype = 'S') # arrar 1 dimensi\n",
    "print(arr)\n",
    "print(arr.dtype) # int32    "
   ]
  },
  {
   "cell_type": "code",
   "execution_count": 85,
   "id": "5fbb651e",
   "metadata": {},
   "outputs": [
    {
     "name": "stdout",
     "output_type": "stream",
     "text": [
      "[[1 2 3]\n",
      " [4 5 6]]\n",
      "int64\n",
      "[[b'1' b'2' b'3']\n",
      " [b'4' b'5' b'6']]\n",
      "|S21\n"
     ]
    }
   ],
   "source": [
    "arr = np.array([[1,2,3],[4,5,6]]) # arrar 2 dimensi\n",
    "arr1 = np.astype(arr, 'S') # ubah tipe data menjadi string\n",
    "\n",
    "print(arr)\n",
    "print(arr.dtype) \n",
    "\n",
    "print(arr1)\n",
    "print(arr1.dtype) "
   ]
  },
  {
   "cell_type": "code",
   "execution_count": 88,
   "id": "ef6b0119",
   "metadata": {},
   "outputs": [
    {
     "name": "stdout",
     "output_type": "stream",
     "text": [
      "[[1.1 2.2 3.3]\n",
      " [4.3 5.1 6.2]]\n",
      "float64\n",
      "[[ True  True  True]\n",
      " [ True  True  True]]\n",
      "bool\n"
     ]
    }
   ],
   "source": [
    "arr = np.array([[1.1,2.2,3.3],[4.3,5.1,6.2]]) # arrar 2 dimensi\n",
    "arr1 = np.astype(arr, 'bool') # ubah tipe data menjadi string\n",
    "\n",
    "print(arr)\n",
    "print(arr.dtype) \n",
    "\n",
    "print(arr1)\n",
    "print(arr1.dtype) "
   ]
  },
  {
   "cell_type": "code",
   "execution_count": 90,
   "id": "76d985b2",
   "metadata": {},
   "outputs": [
    {
     "name": "stdout",
     "output_type": "stream",
     "text": [
      "[1 2 3]\n",
      "[1 2 3]\n",
      "[1 2 3]\n",
      "[10  2  3]\n"
     ]
    }
   ],
   "source": [
    "# fungsi copy\n",
    "arr = np.array([1, 2, 3]) # arrar 1 dimensi\n",
    "arr1 = arr.copy() # salin array\n",
    "\n",
    "print(arr)\n",
    "print(arr1)\n",
    "\n",
    "arr[0] = 10 # ubah nilai array\n",
    "\n",
    "print(arr1)\n",
    "print(arr) # array asli tidak berubah"
   ]
  },
  {
   "cell_type": "code",
   "execution_count": null,
   "id": "bfe26ccf",
   "metadata": {},
   "outputs": [
    {
     "name": "stdout",
     "output_type": "stream",
     "text": [
      "[1 2 3]\n",
      "[1 2 3]\n",
      "[10  2  3]\n",
      "[10  2  3]\n"
     ]
    }
   ],
   "source": [
    "# fungsi view\n",
    "arr = np.array([1, 2, 3]) # arrar 1 dimensi\n",
    "arr1 = arr.view() # salin array\n",
    "\n",
    "print(arr)\n",
    "print(arr1)\n",
    "\n",
    "arr[0] = 10 # ubah nilai array\n",
    "\n",
    "print(arr1)\n",
    "print(arr) # array asli tidak berubah"
   ]
  },
  {
   "cell_type": "code",
   "execution_count": 99,
   "id": "7ffb5366",
   "metadata": {},
   "outputs": [
    {
     "name": "stdout",
     "output_type": "stream",
     "text": [
      "None\n",
      "['a' 'b']\n"
     ]
    }
   ],
   "source": [
    "# fungsi base\n",
    "x = np.array(['a', 'b']) \n",
    "y = x.view() # salin array\n",
    "\n",
    "print(x.base)\n",
    "print(y.base)"
   ]
  },
  {
   "cell_type": "code",
   "execution_count": null,
   "id": "d5780d53",
   "metadata": {},
   "outputs": [],
   "source": []
  }
 ],
 "metadata": {
  "kernelspec": {
   "display_name": "Python 3",
   "language": "python",
   "name": "python3"
  },
  "language_info": {
   "codemirror_mode": {
    "name": "ipython",
    "version": 3
   },
   "file_extension": ".py",
   "mimetype": "text/x-python",
   "name": "python",
   "nbconvert_exporter": "python",
   "pygments_lexer": "ipython3",
   "version": "3.13.2"
  }
 },
 "nbformat": 4,
 "nbformat_minor": 5
}

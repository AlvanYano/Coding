{
 "cells": [
  {
   "cell_type": "code",
   "execution_count": 4,
   "metadata": {},
   "outputs": [
    {
     "name": "stdout",
     "output_type": "stream",
     "text": [
      "Hello World    as1\n"
     ]
    }
   ],
   "source": [
    "print('Hello World')"
   ]
  },
  {
   "cell_type": "code",
   "execution_count": null,
   "metadata": {},
   "outputs": [
    {
     "name": "stdout",
     "output_type": "stream",
     "text": [
      "True\n",
      "<class 'bool'>\n"
     ]
    }
   ],
   "source": [
    "# Type Data Boolean\n",
    "\n",
    "a = True\n",
    "b = False\n",
    "\n",
    "print(a)\n",
    "\n",
    "print(type(a))"
   ]
  },
  {
   "cell_type": "code",
   "execution_count": 17,
   "metadata": {},
   "outputs": [
    {
     "name": "stdout",
     "output_type": "stream",
     "text": [
      "Ayo Belajar Python\n",
      "<class 'str'>\n"
     ]
    }
   ],
   "source": [
    "# Tipe data string\n",
    "\n",
    "a = 'Ayo Belajar Python'\n",
    "\n",
    "print(a)\n",
    "\n",
    "print(type(a))"
   ]
  },
  {
   "cell_type": "code",
   "execution_count": 19,
   "metadata": {},
   "outputs": [
    {
     "name": "stdout",
     "output_type": "stream",
     "text": [
      "12\n",
      "<class 'int'>\n"
     ]
    }
   ],
   "source": [
    "# Tipe data integer\n",
    "\n",
    "a = 12\n",
    "\n",
    "print(a)\n",
    "\n",
    "print(type(a))"
   ]
  },
  {
   "cell_type": "code",
   "execution_count": 21,
   "metadata": {},
   "outputs": [
    {
     "name": "stdout",
     "output_type": "stream",
     "text": [
      "12.5\n",
      "<class 'float'>\n"
     ]
    }
   ],
   "source": [
    "# Tipe data float\n",
    "\n",
    "a = 12.5\n",
    "\n",
    "print(a)\n",
    "\n",
    "print(type(a))"
   ]
  },
  {
   "cell_type": "code",
   "execution_count": 23,
   "metadata": {},
   "outputs": [
    {
     "name": "stdout",
     "output_type": "stream",
     "text": [
      "(3+9j)\n",
      "<class 'complex'>\n"
     ]
    }
   ],
   "source": [
    "# Tipe data complex\n",
    "\n",
    "a = 3 + 9j\n",
    "\n",
    "print(a)\n",
    "print(type(a))"
   ]
  },
  {
   "cell_type": "code",
   "execution_count": 24,
   "metadata": {},
   "outputs": [
    {
     "name": "stdout",
     "output_type": "stream",
     "text": [
      "255\n",
      "<class 'int'>\n"
     ]
    }
   ],
   "source": [
    "# Tipe data hexadecimal\n",
    "\n",
    "hexa = 0xFF\n",
    "\n",
    "print(hexa)\n",
    "\n",
    "print(type(hexa))"
   ]
  },
  {
   "cell_type": "code",
   "execution_count": 1,
   "metadata": {},
   "outputs": [
    {
     "name": "stdout",
     "output_type": "stream",
     "text": [
      "[1, 2, 3, 4, 5]\n",
      "<class 'list'>\n"
     ]
    }
   ],
   "source": [
    "# Array\n",
    "\n",
    "# List\n",
    "numbers = [1, 2, 3, 4, 5]\n",
    "print(numbers)\n",
    "print(type(numbers))"
   ]
  },
  {
   "cell_type": "code",
   "execution_count": 2,
   "metadata": {},
   "outputs": [
    {
     "name": "stdout",
     "output_type": "stream",
     "text": [
      "(1, 2, 3, 4, 5)\n",
      "<class 'tuple'>\n"
     ]
    }
   ],
   "source": [
    "# Tuple\n",
    "numbers = (1,2, 3, 4, 5)\n",
    "print(numbers)\n",
    "print(type(numbers))"
   ]
  },
  {
   "cell_type": "code",
   "execution_count": null,
   "metadata": {},
   "outputs": [
    {
     "name": "stdout",
     "output_type": "stream",
     "text": [
      "{1, 2, 3, 4, 5}\n",
      "<class 'set'>\n"
     ]
    }
   ],
   "source": [
    "# Set\n",
    "numbers = {1, 2, 3, 4, 5}\n",
    "print(numbers)\n",
    "print(type(numbers))"
   ]
  },
  {
   "cell_type": "code",
   "execution_count": 28,
   "metadata": {},
   "outputs": [
    {
     "name": "stdout",
     "output_type": "stream",
     "text": [
      "['saya', 2, 3.44, (4+9j)]\n"
     ]
    }
   ],
   "source": [
    "myList = ['saya', 2, 3.44, 4+9j]\n",
    "print(myList)\n",
    "\n"
   ]
  },
  {
   "cell_type": "code",
   "execution_count": 33,
   "metadata": {},
   "outputs": [
    {
     "name": "stdout",
     "output_type": "stream",
     "text": [
      "{'nama': 'alpan', 'sks': 100, 'semester': [1, 2, 3]}\n",
      "<class 'dict'>\n"
     ]
    }
   ],
   "source": [
    "# Tipe Data Dictionary\n",
    "\n",
    "mahasiswa = {\n",
    "    \"nama\" : 'alpan',\n",
    "    'sks'  : 100,\n",
    "    'semester' : [1, 2, 3]\n",
    "\n",
    "}\n",
    "\n",
    "# print(mahasiswa['nama'])\n",
    "\n",
    "print(mahasiswa)\n",
    "print(type(mahasiswa))"
   ]
  },
  {
   "cell_type": "code",
   "execution_count": null,
   "metadata": {},
   "outputs": [
    {
     "name": "stdout",
     "output_type": "stream",
     "text": [
      "x 11 TIpe x adalah <class 'int'>\n",
      "x 1.12 TIpe x adalah <class 'float'>\n",
      "x 88j TIpe x adalah <class 'complex'>\n"
     ]
    }
   ],
   "source": [
    "# konversi tipe data\n",
    "x = 11\n",
    "y = 1.12\n",
    "z = 88j\n",
    "\n",
    "print (\"x\",x, \"TIpe x adalah\", type(x) )\n",
    "print (\"y\",y, \"TIpe x adalah\", type(y) )\n",
    "print (\"z\",z, \"TIpe x adalah\", type(z) )"
   ]
  },
  {
   "cell_type": "code",
   "execution_count": 6,
   "metadata": {},
   "outputs": [
    {
     "name": "stdout",
     "output_type": "stream",
     "text": [
      "1.0\n",
      "<class 'float'>\n",
      "2\n",
      "<class 'int'>\n",
      "(1+0j)\n",
      "<class 'complex'>\n"
     ]
    }
   ],
   "source": [
    "# Konversi Tipe Data\n",
    "\n",
    "a = 1\n",
    "b = 2.5\n",
    "c = 9j\n",
    "\n",
    "# int -> float\n",
    "print(float(a))\n",
    "print(type(float(a)))\n",
    "\n",
    "# float -> int\n",
    "print(int(b))\n",
    "print(type(int(b)))\n",
    "\n",
    "# int -> complex\n",
    "print(complex(a))\n",
    "print(type(complex(a)))\n",
    "\n",
    "# complex -> int\n",
    "# print(int(c))"
   ]
  },
  {
   "cell_type": "code",
   "execution_count": 73,
   "metadata": {},
   "outputs": [
    {
     "name": "stdout",
     "output_type": "stream",
     "text": [
      "85\n"
     ]
    }
   ],
   "source": [
    "# random\n",
    "\n",
    "import random\n",
    "\n",
    "acak = random.randint(10, 100)\n",
    "\n",
    "print(acak)"
   ]
  },
  {
   "cell_type": "code",
   "execution_count": null,
   "metadata": {},
   "outputs": [],
   "source": [
    "# membuat nama variabel yang legal\n",
    "\n",
    "myvar = 'Budi'\n",
    "my_var = 'Budi'\n",
    "_my_var = 'Budi' \n",
    "myVar = 'Budi'\n",
    "MYVAR = 'Budi'\n",
    "myvar2 = 'Budi'"
   ]
  },
  {
   "cell_type": "code",
   "execution_count": null,
   "metadata": {},
   "outputs": [
    {
     "ename": "SyntaxError",
     "evalue": "invalid syntax (1482243341.py, line 4)",
     "output_type": "error",
     "traceback": [
      "  \u001b[36mCell\u001b[39m\u001b[36m \u001b[39m\u001b[32mIn[76]\u001b[39m\u001b[32m, line 4\u001b[39m\n\u001b[31m    \u001b[39m\u001b[31mmy var = 'budi'\u001b[39m\n       ^\n\u001b[31mSyntaxError\u001b[39m\u001b[31m:\u001b[39m invalid syntax\n"
     ]
    }
   ],
   "source": [
    "# nama Variabel yang salah \n",
    "# 2myvar = 'Budi'\n",
    "# my-var = 'budi'\n",
    "my var = 'budi'"
   ]
  },
  {
   "cell_type": "code",
   "execution_count": null,
   "metadata": {},
   "outputs": [
    {
     "name": "stdout",
     "output_type": "stream",
     "text": [
      "python adalah bahasa yang keren\n",
      "python adalah bahasa yang keren\n"
     ]
    }
   ],
   "source": [
    "# Perbedaan Menggabungkan teks menggunakan + dan , \n",
    "kata = 'keren'\n",
    "print('python adalah bahasa yang ' + kata)\n",
    "print('python adalah bahasa yang' , kata)\n"
   ]
  },
  {
   "cell_type": "code",
   "execution_count": null,
   "metadata": {},
   "outputs": [
    {
     "name": "stdout",
     "output_type": "stream",
     "text": [
      "python adalah bahasa yang 5\n",
      "python adalah bahasa yang 5\n"
     ]
    }
   ],
   "source": [
    "print('python adalah bahasa yang ' + str(5))\n",
    "print('python adalah bahasa yang' , 5)\n",
    "\n",
    "# perbedaan menggunakan , dan +"
   ]
  },
  {
   "cell_type": "code",
   "execution_count": 1,
   "metadata": {},
   "outputs": [
    {
     "name": "stdout",
     "output_type": "stream",
     "text": [
      " python adalah bahasa yang keren\n"
     ]
    }
   ],
   "source": [
    "kalimat = ' python adalah bahasa yang '\n",
    "kata = 'keren'\n",
    "kalimat_full = kalimat + kata\n",
    "\n",
    "print(kalimat_full) # menggabungkan 2 variabel string"
   ]
  },
  {
   "cell_type": "code",
   "execution_count": 89,
   "metadata": {},
   "outputs": [
    {
     "name": "stdout",
     "output_type": "stream",
     "text": [
      "Python adalah bahasa yang fantastic\n",
      "Python adalah bahasa yang keren\n"
     ]
    }
   ],
   "source": [
    "# variabel global\n",
    "\n",
    "kata = 'keren'\n",
    "\n",
    "def myfunc():\n",
    "    kata = 'fantastic'\n",
    "\n",
    "    print('Python adalah bahasa yang', kata)\n",
    "\n",
    "\n",
    "myfunc()\n",
    "\n",
    "print('Python adalah bahasa yang', kata)\n"
   ]
  },
  {
   "cell_type": "code",
   "execution_count": null,
   "metadata": {},
   "outputs": [
    {
     "name": "stdout",
     "output_type": "stream",
     "text": [
      "Python adalah bahasa yang keren\n"
     ]
    },
    {
     "ename": "NameError",
     "evalue": "name 'lokal' is not defined",
     "output_type": "error",
     "traceback": [
      "\u001b[31m---------------------------------------------------------------------------\u001b[39m",
      "\u001b[31mNameError\u001b[39m                                 Traceback (most recent call last)",
      "\u001b[36mCell\u001b[39m\u001b[36m \u001b[39m\u001b[32mIn[7]\u001b[39m\u001b[32m, line 13\u001b[39m\n\u001b[32m      8\u001b[39m     \u001b[38;5;28mprint\u001b[39m(\u001b[33m'\u001b[39m\u001b[33mPython adalah bahasa yang\u001b[39m\u001b[33m'\u001b[39m, kata)\n\u001b[32m     11\u001b[39m myfunc()\n\u001b[32m---> \u001b[39m\u001b[32m13\u001b[39m \u001b[38;5;28mprint\u001b[39m(\u001b[33m'\u001b[39m\u001b[33mPython adalah bahasa yang\u001b[39m\u001b[33m'\u001b[39m, \u001b[43mlokal\u001b[49m)\n",
      "\u001b[31mNameError\u001b[39m: name 'lokal' is not defined"
     ]
    }
   ],
   "source": [
    "# variabel lokal\n",
    "\n",
    "kata = 'keren'\n",
    "\n",
    "def myfunc():\n",
    "    lokal = 'fantastic'\n",
    "\n",
    "    print('Python adalah bahasa yang', kata)\n",
    "\n",
    "\n",
    "myfunc()\n",
    "\n",
    "print('Python adalah bahasa yang', lokal)\n"
   ]
  },
  {
   "cell_type": "code",
   "execution_count": 11,
   "metadata": {},
   "outputs": [
    {
     "name": "stdout",
     "output_type": "stream",
     "text": [
      "Python adalah bahasa yang fantastic\n",
      "Python adalah bahasa yang keren\n"
     ]
    }
   ],
   "source": [
    "# Keyword Global\n",
    "\n",
    "kata = 'keren'\n",
    "\n",
    "lokal = 0\n",
    "\n",
    "def myfunc():\n",
    "    global lokal\n",
    "\n",
    "    lokal = 'fantastic'\n",
    "    \n",
    "\n",
    "    print('Python adalah bahasa yang', lokal)\n",
    "\n",
    "\n",
    "myfunc()\n",
    "\n",
    "print('Python adalah bahasa yang', kata)\n"
   ]
  },
  {
   "cell_type": "code",
   "execution_count": 96,
   "metadata": {},
   "outputs": [
    {
     "name": "stdout",
     "output_type": "stream",
     "text": [
      "jeruk\n",
      "pisang\n",
      "rambutan\n"
     ]
    }
   ],
   "source": [
    "# memasukan nilai variabel ganda\n",
    "\n",
    "x, y, z = 'jeruk', 'pisang', 'rambutan'\n",
    "\n",
    "print(x)\n",
    "print(y)\n",
    "print(z)"
   ]
  },
  {
   "cell_type": "code",
   "execution_count": 2,
   "metadata": {},
   "outputs": [
    {
     "name": "stdout",
     "output_type": "stream",
     "text": [
      "5\n",
      "-1\n",
      "12\n",
      "0.8\n"
     ]
    }
   ],
   "source": [
    "# Operator \n",
    "# Operator aritmatika\n",
    "\n",
    "# penjumlahan\n",
    "print(2+3)\n",
    "# pengurangan\n",
    "print(1-2)\n",
    "# perkalia\n",
    "print(3*4)\n",
    "# pembagian\n",
    "print(4 / 5)\n",
    "# sisa bagi\n",
    "\n"
   ]
  },
  {
   "cell_type": "code",
   "execution_count": 3,
   "metadata": {},
   "outputs": [
    {
     "name": "stdout",
     "output_type": "stream",
     "text": [
      "1\n",
      "100\n",
      "3\n",
      "<class 'int'>\n"
     ]
    }
   ],
   "source": [
    "print(10 % 3)\n",
    "# Pangkat\n",
    "print(10**2)\n",
    "# pembagian bulat\n",
    "print(10//3)\n",
    "print(type(10//3))"
   ]
  },
  {
   "cell_type": "code",
   "execution_count": null,
   "metadata": {},
   "outputs": [
    {
     "name": "stdout",
     "output_type": "stream",
     "text": [
      "10\n",
      "30\n"
     ]
    }
   ],
   "source": [
    "# Operator Penugasan (assignment operator)\n",
    "# sama dengan (=)\n",
    "\n",
    "a = 10\n",
    "print(a)\n",
    "\n",
    "# tambah sama dengan\n",
    "a  = 10\n",
    "a += 5\n",
    "a +=5\n",
    "a += 5\n",
    "a += 5\n",
    "\n",
    "print(a)\n",
    "\n",
    "# Kali sama dengan \n",
    "a = 10\n",
    "a *= 5\n",
    "print (a)\n",
    "\n",
    "# Pembagian sama dengan\n",
    "a = 10\n",
    "a /= 5\n",
    "\n",
    "print(a)\n"
   ]
  },
  {
   "cell_type": "code",
   "execution_count": 103,
   "metadata": {},
   "outputs": [
    {
     "name": "stdout",
     "output_type": "stream",
     "text": [
      "5\n"
     ]
    }
   ],
   "source": [
    "# kurang sama dengan\n",
    "\n",
    "a = 10\n",
    "a-= 5\n",
    "print(a)"
   ]
  },
  {
   "cell_type": "code",
   "execution_count": null,
   "metadata": {},
   "outputs": [
    {
     "name": "stdout",
     "output_type": "stream",
     "text": [
      "50\n"
     ]
    }
   ],
   "source": []
  },
  {
   "cell_type": "code",
   "execution_count": null,
   "metadata": {},
   "outputs": [
    {
     "name": "stdout",
     "output_type": "stream",
     "text": [
      "2.0\n"
     ]
    }
   ],
   "source": []
  },
  {
   "cell_type": "code",
   "execution_count": 109,
   "metadata": {},
   "outputs": [
    {
     "name": "stdout",
     "output_type": "stream",
     "text": [
      "1\n"
     ]
    }
   ],
   "source": [
    "# sisa bagi sama dengan\n",
    "a = 10\n",
    "a %= 3\n",
    "\n",
    "print(a)"
   ]
  },
  {
   "cell_type": "code",
   "execution_count": 110,
   "metadata": {},
   "outputs": [
    {
     "name": "stdout",
     "output_type": "stream",
     "text": [
      "100000\n"
     ]
    }
   ],
   "source": [
    "# pangkat sama dengan\n",
    "a = 10\n",
    "a **= 5\n",
    "\n",
    "print(a)"
   ]
  },
  {
   "cell_type": "code",
   "execution_count": 113,
   "metadata": {},
   "outputs": [
    {
     "name": "stdout",
     "output_type": "stream",
     "text": [
      "3\n"
     ]
    }
   ],
   "source": [
    "# pembulatan sama dengan\n",
    "a = 10\n",
    "a //= 3\n",
    "\n",
    "print(a)"
   ]
  },
  {
   "cell_type": "code",
   "execution_count": 119,
   "metadata": {},
   "outputs": [
    {
     "name": "stdout",
     "output_type": "stream",
     "text": [
      "True\n",
      "False\n"
     ]
    }
   ],
   "source": [
    "# Operator Perbandingan\n",
    "# ==\n",
    "\n",
    "print([1,2, 3, 4, 5, 6] == [1, 2, 3, 4, 5, 6])\n",
    "print([1,2, 3, 4, 5, 6] == [7, 8, 9, 10, 11, 12])"
   ]
  },
  {
   "cell_type": "code",
   "execution_count": 118,
   "metadata": {},
   "outputs": [
    {
     "name": "stdout",
     "output_type": "stream",
     "text": [
      "True\n"
     ]
    }
   ],
   "source": [
    "# Tidak sama dengan (!=)\n",
    "\n",
    "angka = [1, 2,3]\n",
    "\n",
    "angka2 = [4, 5, 6]\n",
    "\n",
    "print(angka != angka2)"
   ]
  },
  {
   "cell_type": "code",
   "execution_count": 122,
   "metadata": {},
   "outputs": [
    {
     "name": "stdout",
     "output_type": "stream",
     "text": [
      "True\n",
      "True\n"
     ]
    }
   ],
   "source": [
    "# Lebih besar dari // lebih besar dari sama dengan \n",
    "\n",
    "print(3 > 2)\n",
    "print(3 >= 2)\n"
   ]
  },
  {
   "cell_type": "code",
   "execution_count": 125,
   "metadata": {},
   "outputs": [
    {
     "name": "stdout",
     "output_type": "stream",
     "text": [
      "False\n",
      "True\n"
     ]
    }
   ],
   "source": [
    "# Lebih kecil dari // lebih kecil dari sama dengan \n",
    "\n",
    "print(3 < 2)\n",
    "print(3 <= 3)\n"
   ]
  },
  {
   "cell_type": "code",
   "execution_count": 128,
   "metadata": {},
   "outputs": [
    {
     "name": "stdout",
     "output_type": "stream",
     "text": [
      "False\n"
     ]
    }
   ],
   "source": [
    "# Operator Logika\n",
    "# AND (True and True -> True)\n",
    "\n",
    "x = True\n",
    "y = False\n",
    "\n",
    "print(x and y)"
   ]
  },
  {
   "cell_type": "code",
   "execution_count": 130,
   "metadata": {},
   "outputs": [
    {
     "name": "stdout",
     "output_type": "stream",
     "text": [
      "True\n"
     ]
    }
   ],
   "source": [
    "# Operator Logika\n",
    "# AND (False and False -> False )\n",
    "\n",
    "x = True\n",
    "y = False\n",
    "\n",
    "print(x or y)"
   ]
  },
  {
   "cell_type": "code",
   "execution_count": 131,
   "metadata": {},
   "outputs": [
    {
     "name": "stdout",
     "output_type": "stream",
     "text": [
      "False\n"
     ]
    }
   ],
   "source": [
    "# Operator Logika\n",
    "# NOT\n",
    "\n",
    "x = True\n",
    "print(not x)"
   ]
  },
  {
   "cell_type": "code",
   "execution_count": 136,
   "metadata": {},
   "outputs": [
    {
     "name": "stdout",
     "output_type": "stream",
     "text": [
      "00001101\n",
      "00100101\n",
      "00000101\n",
      "5\n"
     ]
    }
   ],
   "source": [
    "# Bitwise Operator\n",
    "# AND\n",
    "\n",
    "a = 13\n",
    "b = 37\n",
    "\n",
    "print(format(a, '08b'))\n",
    "print(format(b, '08b'))\n",
    "print(format(a & b, '08b'))\n",
    "\n",
    "print(a & b)\n"
   ]
  },
  {
   "cell_type": "code",
   "execution_count": 138,
   "metadata": {},
   "outputs": [
    {
     "name": "stdout",
     "output_type": "stream",
     "text": [
      "00001101\n",
      "00100101\n",
      "00101101\n",
      "45\n"
     ]
    }
   ],
   "source": [
    "# Bitwise Operator\n",
    "# OR\n",
    "\n",
    "a = 13\n",
    "b = 37\n",
    "\n",
    "print(format(a, '08b'))\n",
    "print(format(b, '08b'))\n",
    "print(format(a | b, '08b'))\n",
    "\n",
    "print(a | b)\n"
   ]
  },
  {
   "cell_type": "code",
   "execution_count": 139,
   "metadata": {},
   "outputs": [
    {
     "name": "stdout",
     "output_type": "stream",
     "text": [
      "00001101\n",
      "00100101\n",
      "00101000\n",
      "40\n"
     ]
    }
   ],
   "source": [
    "# Bitwise Operator\n",
    "# XOR\n",
    "\n",
    "a = 13\n",
    "b = 37\n",
    "\n",
    "print(format(a, '08b'))\n",
    "print(format(b, '08b'))\n",
    "print(format(a ^ b, '08b'))\n",
    "\n",
    "print(a ^ b)\n"
   ]
  },
  {
   "cell_type": "code",
   "execution_count": 141,
   "metadata": {},
   "outputs": [
    {
     "name": "stdout",
     "output_type": "stream",
     "text": [
      "00001101\n",
      "-0001110\n",
      "-14\n"
     ]
    }
   ],
   "source": [
    "# Bitwise Operator\n",
    "# NOT\n",
    "\n",
    "a = 13\n",
    "\n",
    "print(format(a, '08b'))\n",
    "print(format(~a, '08b'))\n",
    "\n",
    "print(~a)\n"
   ]
  },
  {
   "cell_type": "code",
   "execution_count": 142,
   "metadata": {},
   "outputs": [
    {
     "name": "stdout",
     "output_type": "stream",
     "text": [
      "00001101\n",
      "00110100\n",
      "52\n"
     ]
    }
   ],
   "source": [
    "# Operator shift left (<<)\n",
    "\n",
    "a = 13\n",
    "\n",
    "print(format(a, '08b'))\n",
    "print(format(a<<2, '08b'))\n",
    "\n",
    "print(a<<2)\n"
   ]
  },
  {
   "cell_type": "code",
   "execution_count": 143,
   "metadata": {},
   "outputs": [
    {
     "name": "stdout",
     "output_type": "stream",
     "text": [
      "00001101\n",
      "00000011\n",
      "3\n"
     ]
    }
   ],
   "source": [
    "# Operator shift right (<<)\n",
    "\n",
    "a = 13\n",
    "\n",
    "print(format(a, '08b'))\n",
    "print(format(a>>2, '08b'))\n",
    "\n",
    "print(a>>2)\n"
   ]
  },
  {
   "cell_type": "code",
   "execution_count": 145,
   "metadata": {},
   "outputs": [
    {
     "name": "stdout",
     "output_type": "stream",
     "text": [
      "True\n"
     ]
    }
   ],
   "source": [
    "# Operator membership\n",
    "# in\n",
    "\n",
    "list = [1, 2, 3, 4, 5]\n",
    "\n",
    "print(2 in list)"
   ]
  },
  {
   "cell_type": "code",
   "execution_count": 147,
   "metadata": {},
   "outputs": [
    {
     "name": "stdout",
     "output_type": "stream",
     "text": [
      "False\n"
     ]
    }
   ],
   "source": [
    "# Operator membership\n",
    "# not in\n",
    "\n",
    "list = [1, 2, 3, 4, 5]\n",
    "\n",
    "print(2 not in list)"
   ]
  },
  {
   "cell_type": "code",
   "execution_count": 149,
   "metadata": {},
   "outputs": [
    {
     "name": "stdout",
     "output_type": "stream",
     "text": [
      "True\n"
     ]
    }
   ],
   "source": [
    "# Operator identitas\n",
    "# is\n",
    "\n",
    "a = 15\n",
    "b = 15\n",
    "\n",
    "print(a is b)"
   ]
  },
  {
   "cell_type": "code",
   "execution_count": 151,
   "metadata": {},
   "outputs": [
    {
     "name": "stdout",
     "output_type": "stream",
     "text": [
      "False\n"
     ]
    }
   ],
   "source": [
    "# Operator identitas\n",
    "# is not\n",
    "\n",
    "a = 15\n",
    "b = 15\n",
    "\n",
    "print(a is not b)"
   ]
  },
  {
   "cell_type": "code",
   "execution_count": null,
   "metadata": {},
   "outputs": [
    {
     "name": "stdout",
     "output_type": "stream",
     "text": [
      "False\n",
      "True\n"
     ]
    }
   ],
   "source": [
    "\n",
    "a = [1, 2, 3]\n",
    "b = [1, 2, 3]\n",
    "\n",
    "print(a is b)\n",
    "print(a == b)\n",
    "\n",
    "# is membandingkan memory, tidak hanya nilai"
   ]
  },
  {
   "cell_type": "code",
   "execution_count": 4,
   "metadata": {},
   "outputs": [
    {
     "name": "stdout",
     "output_type": "stream",
     "text": [
      "False\n",
      "True\n"
     ]
    }
   ],
   "source": [
    "a = 3 \n",
    "b = 3.0\n",
    "\n",
    "print(a is b)\n",
    "print(a == b)"
   ]
  },
  {
   "cell_type": "code",
   "execution_count": 5,
   "metadata": {},
   "outputs": [
    {
     "name": "stdout",
     "output_type": "stream",
     "text": [
      "kelompok\n"
     ]
    }
   ],
   "source": [
    "def aloha():\n",
    "    return \"kelompok\"\n",
    "\n",
    "my_name = aloha()\n",
    "print(my_name)"
   ]
  },
  {
   "cell_type": "code",
   "execution_count": null,
   "metadata": {},
   "outputs": [],
   "source": []
  }
 ],
 "metadata": {
  "kernelspec": {
   "display_name": "Python 3",
   "language": "python",
   "name": "python3"
  },
  "language_info": {
   "codemirror_mode": {
    "name": "ipython",
    "version": 3
   },
   "file_extension": ".py",
   "mimetype": "text/x-python",
   "name": "python",
   "nbconvert_exporter": "python",
   "pygments_lexer": "ipython3",
   "version": "3.13.2"
  }
 },
 "nbformat": 4,
 "nbformat_minor": 2
}

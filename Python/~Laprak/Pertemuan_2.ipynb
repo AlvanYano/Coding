{
 "cells": [
  {
   "cell_type": "code",
   "execution_count": 1,
   "metadata": {},
   "outputs": [
    {
     "name": "stdout",
     "output_type": "stream",
     "text": [
      "Hello world\n"
     ]
    }
   ],
   "source": [
    "print(\"Hello world\")"
   ]
  },
  {
   "cell_type": "code",
   "execution_count": null,
   "metadata": {},
   "outputs": [
    {
     "name": "stdout",
     "output_type": "stream",
     "text": [
      "['apel', 'pisang', 'rambutan', 'delima']\n",
      "<class 'list'>\n"
     ]
    }
   ],
   "source": [
    "# List\n",
    "fruits = ['apel', 'pisang', 'rambutan', 'delima']\n",
    "print(fruits)\n",
    "print(type(fruits))\n",
    "\n",
    "# Mengakses List Value\n",
    "print(fruits)\n",
    "print(fruits[1])\n",
    "\n",
    "# Mengakses value dengan index negatif\n",
    "print(fruits)\n",
    "print(fruits[-1])"
   ]
  },
  {
   "cell_type": "code",
   "execution_count": null,
   "metadata": {},
   "outputs": [
    {
     "name": "stdout",
     "output_type": "stream",
     "text": [
      "['pisang', 'rambutan']\n"
     ]
    }
   ],
   "source": [
    "# Mengakses rentang indeks (=< x <)\n",
    "fruits = ['apel', 'pisang', 'rambutan', 'delima']\n",
    "print(fruits[1:3])\n",
    "\n",
    "# rentang indeks negatif\n",
    "print(fruits)\n",
    "print(fruits[-3:-1])"
   ]
  },
  {
   "cell_type": "code",
   "execution_count": 17,
   "metadata": {},
   "outputs": [
    {
     "data": {
      "text/plain": [
       "['apple', 'pisang', 'rambutan', 'delima']"
      ]
     },
     "execution_count": 17,
     "metadata": {},
     "output_type": "execute_result"
    }
   ],
   "source": [
    "# mengubah nilai dalam list\n",
    "fruits = ['apel', 'pisang', 'rambutan', 'delima']\n",
    "fruits[0] = 'apple'\n",
    "fruits"
   ]
  },
  {
   "cell_type": "code",
   "execution_count": 19,
   "metadata": {},
   "outputs": [
    {
     "name": "stdout",
     "output_type": "stream",
     "text": [
      "apple\n",
      "pisang\n",
      "rambutan\n",
      "delima\n"
     ]
    }
   ],
   "source": [
    "# Perulangan \n",
    "for fruit in fruits:\n",
    "    print(fruit)"
   ]
  },
  {
   "cell_type": "code",
   "execution_count": null,
   "metadata": {},
   "outputs": [
    {
     "name": "stdout",
     "output_type": "stream",
     "text": [
      "mangga ada dalam list fruits\n"
     ]
    }
   ],
   "source": [
    "# mengeccek kebedaraan sebuah value dalam list\n",
    "fruits = ['apel', 'pisang', 'rambutan', 'delima', 'buah naga', 'mangga']\n",
    "\n",
    "if 'mangga' in fruits:\n",
    "    print('mangga ada dalam list fruits')\n",
    "else :\n",
    "    print('buah naga tidak ada dalam list')\n"
   ]
  },
  {
   "cell_type": "code",
   "execution_count": 27,
   "metadata": {},
   "outputs": [
    {
     "name": "stdout",
     "output_type": "stream",
     "text": [
      "['apel', 'pisang', 'rambutan', 'delima', 'buah naga', 'mangga']\n",
      "6\n"
     ]
    }
   ],
   "source": [
    "# menenrukan jumlah komponen dalam lit dengan menggunakan fungsi len()\n",
    "\n",
    "print(fruits)\n",
    "print(len(fruits))"
   ]
  },
  {
   "cell_type": "code",
   "execution_count": 29,
   "metadata": {},
   "outputs": [
    {
     "name": "stdout",
     "output_type": "stream",
     "text": [
      "['apel', 'pisang', 'rambutan', 'delima', 'buah naga', 'mangga', 'mangga']\n"
     ]
    }
   ],
   "source": [
    "# menambahkan iten dalam list\n",
    "fruits = ['apel', 'pisang', 'rambutan', 'delima', 'buah naga', 'mangga']\n",
    "fruits.append('mangga')\n",
    "print(fruits)"
   ]
  },
  {
   "cell_type": "code",
   "execution_count": 32,
   "metadata": {},
   "outputs": [
    {
     "name": "stdout",
     "output_type": "stream",
     "text": [
      "['apel', 'pisang', 'mangga', 'rambutan', 'delima', 'buah naga', 'mangga']\n"
     ]
    }
   ],
   "source": [
    "# fungsi insert\n",
    "fruits = ['apel', 'pisang', 'rambutan', 'delima', 'buah naga', 'mangga']\n",
    "fruits.insert(2, 'mangga')\n",
    "print(fruits)"
   ]
  },
  {
   "cell_type": "code",
   "execution_count": 11,
   "metadata": {},
   "outputs": [
    {
     "name": "stdout",
     "output_type": "stream",
     "text": [
      "['apel', 'pisang', 'rambutan', 'buah naga', 'mangga']\n"
     ]
    }
   ],
   "source": [
    "# mengghilangkan item dalam lust \n",
    "fruits = ['apel', 'pisang', 'rambutan', 'delima', 'buah naga', 'mangga']\n",
    "fruits.remove('delima')\n",
    "print(fruits)"
   ]
  },
  {
   "cell_type": "code",
   "execution_count": 12,
   "metadata": {},
   "outputs": [
    {
     "name": "stdout",
     "output_type": "stream",
     "text": [
      "['pisang', 'rambutan', 'delima', 'buah naga', 'mangga']\n"
     ]
    }
   ],
   "source": [
    "# pop\n",
    "fruits = ['apel', 'pisang', 'rambutan', 'delima', 'buah naga', 'mangga']\n",
    "fruits.pop(0)\n",
    "print(fruits)"
   ]
  },
  {
   "cell_type": "code",
   "execution_count": 13,
   "metadata": {},
   "outputs": [
    {
     "name": "stdout",
     "output_type": "stream",
     "text": [
      "['apel', 'rambutan', 'delima', 'buah naga', 'mangga']\n"
     ]
    }
   ],
   "source": [
    "\n",
    "# del\n",
    "fruits = ['apel', 'pisang', 'rambutan', 'delima', 'buah naga', 'mangga']\n",
    "del fruits[1]\n",
    "print(fruits)"
   ]
  },
  {
   "cell_type": "code",
   "execution_count": 14,
   "metadata": {},
   "outputs": [
    {
     "name": "stdout",
     "output_type": "stream",
     "text": [
      "['apel', 'pisang', 'rambutan', 'delima', 'buah naga', 'mangga']\n"
     ]
    },
    {
     "ename": "NameError",
     "evalue": "name 'fruits' is not defined",
     "output_type": "error",
     "traceback": [
      "\u001b[31m---------------------------------------------------------------------------\u001b[39m",
      "\u001b[31mNameError\u001b[39m                                 Traceback (most recent call last)",
      "\u001b[36mCell\u001b[39m\u001b[36m \u001b[39m\u001b[32mIn[14]\u001b[39m\u001b[32m, line 4\u001b[39m\n\u001b[32m      2\u001b[39m \u001b[38;5;28mprint\u001b[39m(fruits)\n\u001b[32m      3\u001b[39m \u001b[38;5;28;01mdel\u001b[39;00m fruits\n\u001b[32m----> \u001b[39m\u001b[32m4\u001b[39m \u001b[38;5;28mprint\u001b[39m(\u001b[43mfruits\u001b[49m)\n",
      "\u001b[31mNameError\u001b[39m: name 'fruits' is not defined"
     ]
    }
   ],
   "source": [
    "fruits = ['apel', 'pisang', 'rambutan', 'delima', 'buah naga', 'mangga']\n",
    "print(fruits)\n",
    "del fruits\n",
    "print(fruits)"
   ]
  },
  {
   "cell_type": "code",
   "execution_count": 46,
   "metadata": {},
   "outputs": [
    {
     "name": "stdout",
     "output_type": "stream",
     "text": [
      "[]\n"
     ]
    }
   ],
   "source": [
    "# clear\n",
    "fruits = ['apel', 'pisang', 'rambutan', 'delima', 'buah naga', 'mangga']\n",
    "fruits.clear()\n",
    "print(fruits)"
   ]
  },
  {
   "cell_type": "code",
   "execution_count": 48,
   "metadata": {},
   "outputs": [
    {
     "name": "stdout",
     "output_type": "stream",
     "text": [
      "['apel', 'pisang', 'rambutan', 'delima', 'buah naga', 'mangga']\n",
      "['apel', 'pisang', 'rambutan', 'delima', 'buah naga', 'mangga']\n"
     ]
    }
   ],
   "source": [
    "# Meng-copy list\n",
    "fruits1 = ['apel', 'pisang', 'rambutan', 'delima', 'buah naga', 'mangga']\n",
    "fruits2 = fruits1\n",
    "\n",
    "print(fruits1)\n",
    "print(fruits2)"
   ]
  },
  {
   "cell_type": "code",
   "execution_count": 50,
   "metadata": {},
   "outputs": [
    {
     "name": "stdout",
     "output_type": "stream",
     "text": [
      "['mangga', 'pisang', 'rambutan', 'delima', 'buah naga', 'mangga']\n",
      "['mangga', 'pisang', 'rambutan', 'delima', 'buah naga', 'mangga']\n"
     ]
    }
   ],
   "source": [
    "fruits1[0] = 'mangga'\n",
    "print(fruits1)\n",
    "print(fruits2)"
   ]
  },
  {
   "cell_type": "code",
   "execution_count": 52,
   "metadata": {},
   "outputs": [
    {
     "name": "stdout",
     "output_type": "stream",
     "text": [
      "['apel', 'pisang', 'rambutan', 'delima', 'buah naga', 'mangga']\n",
      "['apel', 'pisang', 'rambutan', 'delima', 'buah naga', 'mangga']\n"
     ]
    }
   ],
   "source": [
    "# copy \n",
    "fruits1 = ['apel', 'pisang', 'rambutan', 'delima', 'buah naga', 'mangga']\n",
    "fruits2 = fruits1.copy()\n",
    "\n",
    "print(fruits1)\n",
    "print(fruits2)"
   ]
  },
  {
   "cell_type": "code",
   "execution_count": 54,
   "metadata": {},
   "outputs": [
    {
     "name": "stdout",
     "output_type": "stream",
     "text": [
      "['mangga', 'pisang', 'rambutan', 'delima', 'buah naga', 'mangga']\n",
      "['apel', 'pisang', 'rambutan', 'delima', 'buah naga', 'mangga']\n"
     ]
    }
   ],
   "source": [
    "fruits1[0] = 'mangga'\n",
    "\n",
    "print(fruits1)\n",
    "print(fruits2)"
   ]
  },
  {
   "cell_type": "code",
   "execution_count": 56,
   "metadata": {},
   "outputs": [
    {
     "name": "stdout",
     "output_type": "stream",
     "text": [
      "['apel', 'pisang', 'rambutan', 'delima', 'buah naga', 'mangga']\n",
      "['apel', 'pisang', 'rambutan', 'delima', 'buah naga', 'mangga']\n"
     ]
    }
   ],
   "source": [
    "# list\n",
    "fruits1 = ['apel', 'pisang', 'rambutan', 'delima', 'buah naga', 'mangga']\n",
    "fruits2 = list(fruits1)\n",
    "\n",
    "print(fruits1)\n",
    "print(fruits2)"
   ]
  },
  {
   "cell_type": "code",
   "execution_count": 58,
   "metadata": {},
   "outputs": [
    {
     "name": "stdout",
     "output_type": "stream",
     "text": [
      "['mangga', 'pisang', 'rambutan', 'delima', 'buah naga', 'mangga']\n",
      "['apel', 'pisang', 'rambutan', 'delima', 'buah naga', 'mangga']\n"
     ]
    }
   ],
   "source": [
    "fruits1[0] = 'mangga'\n",
    "\n",
    "print(fruits1)\n",
    "print(fruits2)"
   ]
  },
  {
   "cell_type": "code",
   "execution_count": 62,
   "metadata": {},
   "outputs": [
    {
     "name": "stdout",
     "output_type": "stream",
     "text": [
      "['a', 'b', 'c', 1, 2, 3]\n"
     ]
    }
   ],
   "source": [
    "# Menggabungkan dua list\n",
    "letters = ['a', 'b', 'c']\n",
    "numbers = [1, 2, 3]\n",
    "\n",
    "letters += numbers\n",
    "print(letters)"
   ]
  },
  {
   "cell_type": "code",
   "execution_count": 64,
   "metadata": {},
   "outputs": [
    {
     "name": "stdout",
     "output_type": "stream",
     "text": [
      "['a', 'b', 'c', 1, 2, 3]\n"
     ]
    }
   ],
   "source": [
    "# append\n",
    "\n",
    "letters = ['a', 'b', 'c']\n",
    "numbers = [1, 2, 3]\n",
    "\n",
    "for number in numbers:\n",
    "    letters.append(number)\n",
    "\n",
    "print(letters)"
   ]
  },
  {
   "cell_type": "code",
   "execution_count": 66,
   "metadata": {},
   "outputs": [
    {
     "data": {
      "text/plain": [
       "['a', 'b', 'c', 1, 2, 3]"
      ]
     },
     "execution_count": 66,
     "metadata": {},
     "output_type": "execute_result"
    }
   ],
   "source": [
    "# extend\n",
    "letters = ['a', 'b', 'c']\n",
    "numbers = [1, 2, 3]\n",
    "\n",
    "letters.extend(numbers)\n",
    "letters"
   ]
  },
  {
   "cell_type": "code",
   "execution_count": 15,
   "metadata": {},
   "outputs": [
    {
     "name": "stdout",
     "output_type": "stream",
     "text": [
      "['apple', 'banana']\n",
      "<class 'list'>\n",
      "['s', 'a', 'y', 'a']\n"
     ]
    }
   ],
   "source": [
    "# konstruktor list\n",
    "thislist = list(('apple', 'banana'))\n",
    "print(thislist)\n",
    "print(type(thislist)) \n",
    "\n",
    "dapat = \"saya\"\n",
    "print(list(dapat))"
   ]
  },
  {
   "cell_type": "code",
   "execution_count": 72,
   "metadata": {},
   "outputs": [
    {
     "data": {
      "text/plain": [
       "[5, 4, 3, 2, 1]"
      ]
     },
     "execution_count": 72,
     "metadata": {},
     "output_type": "execute_result"
    }
   ],
   "source": [
    "# reverse\n",
    "numbers = [1, 2, 3, 4, 5]\n",
    "numbers.reverse()\n",
    "numbers "
   ]
  },
  {
   "cell_type": "code",
   "execution_count": 78,
   "metadata": {},
   "outputs": [
    {
     "data": {
      "text/plain": [
       "[7, 5, 4, 3, 2, 1]"
      ]
     },
     "execution_count": 78,
     "metadata": {},
     "output_type": "execute_result"
    }
   ],
   "source": [
    "# sort\n",
    "numbers = [1,2 ,3 ,7, 4, 5]\n",
    "numbers.sort(reverse=True)\n",
    "numbers"
   ]
  },
  {
   "cell_type": "code",
   "execution_count": 82,
   "metadata": {},
   "outputs": [
    {
     "data": {
      "text/plain": [
       "['apel', 'buah naga', 'delima', 'mangga', 'pisang', 'rambutan']"
      ]
     },
     "execution_count": 82,
     "metadata": {},
     "output_type": "execute_result"
    }
   ],
   "source": [
    "fruits = ['apel', 'pisang', 'rambutan', 'delima', 'buah naga', 'mangga']\n",
    "fruits.sort()\n",
    "fruits"
   ]
  },
  {
   "cell_type": "code",
   "execution_count": 85,
   "metadata": {},
   "outputs": [
    {
     "name": "stdout",
     "output_type": "stream",
     "text": [
      "('apel', 'pisang', 'rambutan', 'delima', 'buah naga', 'mangga')\n",
      "<class 'tuple'>\n"
     ]
    }
   ],
   "source": [
    "fruits = ('apel', 'pisang', 'rambutan', 'delima', 'buah naga', 'mangga')\n",
    "print(fruits)\n",
    "print(type(fruits))\n"
   ]
  },
  {
   "cell_type": "code",
   "execution_count": 17,
   "metadata": {},
   "outputs": [
    {
     "name": "stdout",
     "output_type": "stream",
     "text": [
      "bis\n",
      "('truk', 'bis')\n"
     ]
    }
   ],
   "source": [
    "cars = ('sedan', 'truk', 'bis', 'jeep', 'suv')\n",
    "print (cars[2])\n",
    "print(cars[1:3])\n"
   ]
  },
  {
   "cell_type": "code",
   "execution_count": null,
   "metadata": {},
   "outputs": [
    {
     "data": {
      "text/plain": [
       "'jeep'"
      ]
     },
     "execution_count": 90,
     "metadata": {},
     "output_type": "execute_result"
    }
   ],
   "source": [
    "# indeks negatif\n",
    "cars[-2]"
   ]
  },
  {
   "cell_type": "code",
   "execution_count": 18,
   "metadata": {},
   "outputs": [
    {
     "data": {
      "text/plain": [
       "('truk', 'bis')"
      ]
     },
     "execution_count": 18,
     "metadata": {},
     "output_type": "execute_result"
    }
   ],
   "source": [
    "cars = ('sedan', 'truk', 'bis', 'jeep', 'suv')\n",
    "# rentang indeks\n",
    "cars[1:3]"
   ]
  },
  {
   "cell_type": "code",
   "execution_count": 95,
   "metadata": {},
   "outputs": [
    {
     "data": {
      "text/plain": [
       "('bis', 'jeep')"
      ]
     },
     "execution_count": 95,
     "metadata": {},
     "output_type": "execute_result"
    }
   ],
   "source": [
    "# rentang indeks negatif \n",
    "cars[-3:-1] "
   ]
  },
  {
   "cell_type": "code",
   "execution_count": 19,
   "metadata": {},
   "outputs": [
    {
     "data": {
      "text/plain": [
       "('mini van', 'truk', 'bis', 'jeep', 'suv')"
      ]
     },
     "execution_count": 19,
     "metadata": {},
     "output_type": "execute_result"
    }
   ],
   "source": [
    "# mengubah item dalam tuple\n",
    "cars = ('sedan', 'truk', 'bis', 'jeep', 'suv')\n",
    "# cars[0] = 'mini fan'\n",
    "\n",
    "cars = list(cars)\n",
    "\n",
    "# ubah nilai\n",
    "cars[0] = 'mini van'\n",
    "\n",
    "cars = tuple(cars)\n",
    "cars"
   ]
  },
  {
   "cell_type": "code",
   "execution_count": null,
   "metadata": {},
   "outputs": [
    {
     "name": "stdout",
     "output_type": "stream",
     "text": [
      "sedan\n",
      "truk\n",
      "bis\n",
      "jeep\n",
      "suv\n"
     ]
    }
   ],
   "source": [
    "# menampilkan tuple\n",
    "cars = ('sedan', 'truk', 'bis', 'jeep', 'suv')\n",
    "\n",
    "for car in cars:\n",
    "    print(car)"
   ]
  },
  {
   "cell_type": "code",
   "execution_count": 104,
   "metadata": {},
   "outputs": [
    {
     "name": "stdout",
     "output_type": "stream",
     "text": [
      "sedan tidak ada dalam cars\n"
     ]
    }
   ],
   "source": [
    "# mengecek tuple \n",
    "cars = ('sedan', 'truk', 'bis', 'jeep', 'suv')\n",
    "\n",
    "if  'SEDAN' in cars:\n",
    "    print('sedan ada dalam cars')\n",
    "\n",
    "else:\n",
    "    print('sedan tidak ada dalam cars')\n"
   ]
  },
  {
   "cell_type": "code",
   "execution_count": null,
   "metadata": {},
   "outputs": [
    {
     "data": {
      "text/plain": [
       "5"
      ]
     },
     "execution_count": 106,
     "metadata": {},
     "output_type": "execute_result"
    }
   ],
   "source": [
    "# menghitung jumlah dalam tuple\n",
    "cars = ('sedan', 'truk', 'bis', 'jeep', 'suv')\n",
    "len(cars)"
   ]
  },
  {
   "cell_type": "code",
   "execution_count": null,
   "metadata": {},
   "outputs": [
    {
     "ename": "TypeError",
     "evalue": "'tuple' object does not support item assignment",
     "output_type": "error",
     "traceback": [
      "\u001b[31m---------------------------------------------------------------------------\u001b[39m",
      "\u001b[31mTypeError\u001b[39m                                 Traceback (most recent call last)",
      "\u001b[36mCell\u001b[39m\u001b[36m \u001b[39m\u001b[32mIn[108]\u001b[39m\u001b[32m, line 2\u001b[39m\n\u001b[32m      1\u001b[39m \u001b[38;5;66;03m# Menambahkan item ke dalam tuple\u001b[39;00m\n\u001b[32m----> \u001b[39m\u001b[32m2\u001b[39m \u001b[43mcars\u001b[49m\u001b[43m[\u001b[49m\u001b[32;43m1\u001b[39;49m\u001b[43m]\u001b[49m = (\u001b[33m'\u001b[39m\u001b[33mvan\u001b[39m\u001b[33m'\u001b[39m)\n\u001b[32m      4\u001b[39m cars\n",
      "\u001b[31mTypeError\u001b[39m: 'tuple' object does not support item assignment"
     ]
    }
   ],
   "source": [
    "# Menambahkan item ke dalam tuple\n",
    "cars[1] = ('van')\n",
    "\n",
    "cars\n",
    "\n"
   ]
  },
  {
   "cell_type": "code",
   "execution_count": null,
   "metadata": {},
   "outputs": [
    {
     "ename": "TypeError",
     "evalue": "'tuple' object doesn't support item deletion",
     "output_type": "error",
     "traceback": [
      "\u001b[31m---------------------------------------------------------------------------\u001b[39m",
      "\u001b[31mTypeError\u001b[39m                                 Traceback (most recent call last)",
      "\u001b[36mCell\u001b[39m\u001b[36m \u001b[39m\u001b[32mIn[20]\u001b[39m\u001b[32m, line 3\u001b[39m\n\u001b[32m      1\u001b[39m \u001b[38;5;66;03m# menghapus item dalam tuple\u001b[39;00m\n\u001b[32m      2\u001b[39m cars = (\u001b[33m'\u001b[39m\u001b[33msedan\u001b[39m\u001b[33m'\u001b[39m, \u001b[33m'\u001b[39m\u001b[33mtruk\u001b[39m\u001b[33m'\u001b[39m, \u001b[33m'\u001b[39m\u001b[33mbis\u001b[39m\u001b[33m'\u001b[39m, \u001b[33m'\u001b[39m\u001b[33mjeep\u001b[39m\u001b[33m'\u001b[39m, \u001b[33m'\u001b[39m\u001b[33msuv\u001b[39m\u001b[33m'\u001b[39m)\n\u001b[32m----> \u001b[39m\u001b[32m3\u001b[39m \u001b[38;5;28;01mdel\u001b[39;00m \u001b[43mcars\u001b[49m\u001b[43m[\u001b[49m\u001b[32;43m0\u001b[39;49m\u001b[43m]\u001b[49m\n",
      "\u001b[31mTypeError\u001b[39m: 'tuple' object doesn't support item deletion"
     ]
    }
   ],
   "source": [
    "# menghapus item dalam tuple\n",
    "cars = ('sedan', 'truk', 'bis', 'jeep', 'suv')\n",
    "# del cars[0]\n",
    "\n",
    "del cars\n",
    "cars"
   ]
  },
  {
   "cell_type": "code",
   "execution_count": 2,
   "metadata": {},
   "outputs": [],
   "source": [
    "cars = ['sedan', 'truk', 'bis', 'jeep', 'suv']\n",
    "\n"
   ]
  },
  {
   "cell_type": "code",
   "execution_count": 3,
   "metadata": {},
   "outputs": [
    {
     "name": "stdout",
     "output_type": "stream",
     "text": [
      "<class 'list'>\n",
      "Satu\n",
      "Dua\n",
      "Tiga\n"
     ]
    }
   ],
   "source": [
    "#Penulisan List dan Pengakses item dengan indeks\n",
    "member = [\"Satu\", \"Dua\", \"Tiga\"] #mengggunakan kurung siku print(member)\n",
    "print(type (member))\n",
    "\n",
    "#Menampilkan indeks dari dan kiri ke kanan\n",
    "print(member[0]) #menampilkan indeks\n",
    "\n",
    "#menampilkan indeks dari -1 dan kanan ke kiri\n",
    "print(member[-2])\n",
    "print(member[-1])"
   ]
  },
  {
   "cell_type": "code",
   "execution_count": 4,
   "metadata": {},
   "outputs": [
    {
     "name": "stdout",
     "output_type": "stream",
     "text": [
      "['satu', 'dua', 'tiga', 'empat']\n",
      "['satu', 'dua']\n",
      "['satu', 'dua', 'tiga']\n",
      "['tiga', 'empat']\n"
     ]
    }
   ],
   "source": [
    "# rentang indeks\n",
    "# rentang indeks positif\n",
    "\n",
    "member = [\"satu\", \"dua\", \"tiga\", \"empat\"]\n",
    "print(member)\n",
    "print(member[0:2])\n",
    "print(member[ :3])\n",
    "print(member[2: ])"
   ]
  },
  {
   "cell_type": "code",
   "execution_count": 5,
   "metadata": {},
   "outputs": [
    {
     "name": "stdout",
     "output_type": "stream",
     "text": [
      "['dua', 'tiga']\n"
     ]
    }
   ],
   "source": [
    "# rentang indeks negatif\n",
    "member = [\"satu\", \"dua\", \"tiga\", \"empat\"]\n",
    "print(member[-3:-1])"
   ]
  },
  {
   "cell_type": "code",
   "execution_count": 7,
   "metadata": {},
   "outputs": [
    {
     "name": "stdout",
     "output_type": "stream",
     "text": [
      "['satu', 'empat', 'tiga']\n"
     ]
    }
   ],
   "source": [
    "# mengubah nilai item\n",
    "\n",
    "anggota = [\"satu\", \"dua\", \"tiga\"]\n",
    "anggota[1] = \"empat\" # mengubah indeks ke-1\n",
    "print(anggota)"
   ]
  },
  {
   "cell_type": "code",
   "execution_count": 9,
   "metadata": {},
   "outputs": [
    {
     "name": "stdout",
     "output_type": "stream",
     "text": [
      "satu\n",
      "dua\n",
      "tiga\n",
      "empat\n"
     ]
    }
   ],
   "source": [
    "# Perulangan pada list\n",
    "\n",
    "member = [\"satu\", \"dua\", \"tiga\", \"empat\"]\n",
    "\n",
    "for NCT in member:\n",
    "    print(NCT)"
   ]
  },
  {
   "cell_type": "code",
   "execution_count": 10,
   "metadata": {},
   "outputs": [
    {
     "name": "stdout",
     "output_type": "stream",
     "text": [
      "yes, 'cheng yi' is in list actors\n"
     ]
    }
   ],
   "source": [
    "# mengecek keberadaan sebuah item dalam list\n",
    "actors = [\"wang an yu\", \"cheng yi\", \"zhang ling he\", \"cheng lei\"]\n",
    "\n",
    "if \"cheng yi\" in actors:\n",
    "    print(\"yes, 'cheng yi' is in list actors\")"
   ]
  },
  {
   "cell_type": "code",
   "execution_count": null,
   "metadata": {},
   "outputs": [],
   "source": []
  }
 ],
 "metadata": {
  "kernelspec": {
   "display_name": "Python 3",
   "language": "python",
   "name": "python3"
  },
  "language_info": {
   "codemirror_mode": {
    "name": "ipython",
    "version": 3
   },
   "file_extension": ".py",
   "mimetype": "text/x-python",
   "name": "python",
   "nbconvert_exporter": "python",
   "pygments_lexer": "ipython3",
   "version": "3.13.2"
  }
 },
 "nbformat": 4,
 "nbformat_minor": 2
}

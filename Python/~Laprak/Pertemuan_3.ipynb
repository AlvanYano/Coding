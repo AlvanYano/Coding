{
 "cells": [
  {
   "cell_type": "code",
   "execution_count": 13,
   "metadata": {},
   "outputs": [
    {
     "name": "stdout",
     "output_type": "stream",
     "text": [
      "kamis\n",
      "senin\n",
      "rabu\n",
      "selasa\n",
      "<class 'set'>\n"
     ]
    }
   ],
   "source": [
    "# Mengakses elemen dalam set\n",
    "\n",
    "member = {\"senin\", \"selasa\", \"rabu\", \"kamis\"}\n",
    "for x in member:\n",
    "    print(x)\n",
    "\n",
    "print(type(member))"
   ]
  },
  {
   "cell_type": "code",
   "execution_count": 15,
   "metadata": {},
   "outputs": [
    {
     "name": "stdout",
     "output_type": "stream",
     "text": [
      "Ya\n"
     ]
    }
   ],
   "source": [
    "# memeriksa elemen dalam set\n",
    "\n",
    "member = {\"senin\", \"selasa\", \"rabu\", \"kamis\"}\n",
    "if \"jumat\" in member:\n",
    "    print(\"YES\")\n",
    "elif \"senin\" in member:\n",
    "    print(\"Ya\")\n",
    "else:\n",
    "    print(\"NO\")"
   ]
  },
  {
   "cell_type": "code",
   "execution_count": 18,
   "metadata": {},
   "outputs": [
    {
     "name": "stdout",
     "output_type": "stream",
     "text": [
      "{'kamis', 'senin', 'rabu', 'selasa'}\n",
      "{'rabu', 'selasa', 'Jumat', 'kamis', 'senin'}\n",
      "\n",
      "{'februari', 'januari', 'maret'}\n",
      "{'1 januari', '2 februari', '3 maret', 'februari', 'januari', 'maret'}\n"
     ]
    }
   ],
   "source": [
    "# menambahkan elemen dalam set\n",
    "member = {\"senin\", \"selasa\", \"rabu\", \"kamis\"}\n",
    "print(member)\n",
    "member.add(\"Jumat\")\n",
    "print(member)\n",
    "\n",
    "print(\"\")\n",
    "\n",
    "# menambahkan elemen dengan update\n",
    "anggota = {\"januari\", \"februari\", \"maret\"}\n",
    "print(anggota)\n",
    "anggota.update({\"1 januari\", \"2 februari\", \"3 maret\"})\n",
    "print(anggota)"
   ]
  },
  {
   "cell_type": "code",
   "execution_count": 20,
   "metadata": {},
   "outputs": [
    {
     "name": "stdout",
     "output_type": "stream",
     "text": [
      "3\n"
     ]
    }
   ],
   "source": [
    "# Mengukur jumlah elemen dalam set\n",
    "anggota = {\"januari\", \"februari\", \"maret\"}\n",
    "print(len(anggota))"
   ]
  },
  {
   "cell_type": "code",
   "execution_count": 1,
   "metadata": {},
   "outputs": [
    {
     "name": "stdout",
     "output_type": "stream",
     "text": [
      "{'mythic', 'epic', 'legend', 'mythic glory'}\n",
      "{'kronos', 'hades', 'poseidon', 'zeus'}\n",
      "set()\n",
      "{'kratos', 'kronos', 'hades', 'poseidon'}\n"
     ]
    }
   ],
   "source": [
    "# menghapus satu elemen dalam set\n",
    "rank = {'grandmaster', 'epic', 'legend', 'mythic', 'mythic glory'}\n",
    "rank.remove('grandmaster')\n",
    "print(rank)\n",
    "\n",
    "# menghapus dengan fungsi pop()\n",
    "greece = {'zeus', 'hades', 'poseidon', 'kronos', 'kratos'}\n",
    "greece.pop()\n",
    "print(greece)\n",
    "\n",
    "# menghapus set dengan fungsi clear()\n",
    "greece = {'zeus', 'hades', 'poseidon', 'kronos', 'kratos'}\n",
    "greece.clear()\n",
    "print(greece)\n",
    "\n",
    "# menghapus menggunakan discard\n",
    "greece = {'zeus', 'hades', 'poseidon', 'kronos', 'kratos'}\n",
    "greece.discard(\"zeus\")\n",
    "print(greece)"
   ]
  },
  {
   "cell_type": "code",
   "execution_count": 23,
   "metadata": {},
   "outputs": [
    {
     "name": "stdout",
     "output_type": "stream",
     "text": [
      "set()\n"
     ]
    },
    {
     "ename": "NameError",
     "evalue": "name 'greece' is not defined",
     "output_type": "error",
     "traceback": [
      "\u001b[31m---------------------------------------------------------------------------\u001b[39m",
      "\u001b[31mNameError\u001b[39m                                 Traceback (most recent call last)",
      "\u001b[36mCell\u001b[39m\u001b[36m \u001b[39m\u001b[32mIn[23]\u001b[39m\u001b[32m, line 7\u001b[39m\n\u001b[32m      4\u001b[39m \u001b[38;5;28mprint\u001b[39m(greece)\n\u001b[32m      6\u001b[39m \u001b[38;5;28;01mdel\u001b[39;00m greece\n\u001b[32m----> \u001b[39m\u001b[32m7\u001b[39m \u001b[38;5;28mprint\u001b[39m(\u001b[43mgreece\u001b[49m)\n",
      "\u001b[31mNameError\u001b[39m: name 'greece' is not defined"
     ]
    }
   ],
   "source": [
    "# menghapus set dengan fungsi clear()\n",
    "greece = {'zeus', 'hades', 'poseidon', 'kronos', 'kratos'}\n",
    "greece.clear()\n",
    "print(greece)\n",
    "\n",
    "del greece\n",
    "print(greece)"
   ]
  },
  {
   "cell_type": "code",
   "execution_count": null,
   "metadata": {},
   "outputs": [
    {
     "name": "stdout",
     "output_type": "stream",
     "text": [
      "{'grandmaster', 1, 2, 3, 4, 5, 'legend', 'epic', 'mythic', 'mythic glory'}\n",
      "{'grandmaster', 1, 2, 3, 4, 5, 'legend', 'epic', 'mythic', 'mythic glory'}\n"
     ]
    }
   ],
   "source": [
    "# menggabungkan set\n",
    "# menggunakan union()\n",
    "rank = {'grandmaster', 'epic', 'legend', 'mythic', 'mythic glory'}\n",
    "bintang = {1, 2, 3, 4, 5}\n",
    "\n",
    "rank_bintang = rank.union(bintang)\n",
    "print(rank_bintang)\n",
    "\n",
    "# menggunakan update\n",
    "rank.update(bintang)\n",
    "print(rank)"
   ]
  },
  {
   "cell_type": "code",
   "execution_count": 26,
   "metadata": {},
   "outputs": [
    {
     "name": "stdout",
     "output_type": "stream",
     "text": [
      "high school musical\n",
      "20 januari\n",
      "high school musical\n",
      "20 januari\n"
     ]
    }
   ],
   "source": [
    "# mengakses elemen dalam dictionary\n",
    "overview = {'film': 'high school musical',\n",
    "            'tanggal rilis': '20 januari',\n",
    "            'tahun': '2006'}\n",
    "x = overview['film']\n",
    "print(x)\n",
    "\n",
    "y = overview['tanggal rilis']\n",
    "print(y)\n",
    "\n",
    "\n",
    "x = overview.get('film')\n",
    "print(x)\n",
    "y = overview.get('tanggal rilis')\n",
    "print(y)"
   ]
  },
  {
   "cell_type": "code",
   "execution_count": 27,
   "metadata": {},
   "outputs": [
    {
     "name": "stdout",
     "output_type": "stream",
     "text": [
      "film awal high school musical\n",
      "film diubah max out\n",
      "high school musical\n",
      "20 januari\n",
      "2006\n"
     ]
    }
   ],
   "source": [
    "overview = {'film': 'high school musical',\n",
    "            'tanggal rilis': '20 januari',\n",
    "            'tahun': '2006'}\n",
    "print('film awal', overview.get('film'))\n",
    "overview['film'] = 'max out'\n",
    "print('film diubah', overview.get('film'))\n",
    "\n",
    "overview = {'film': 'high school musical',\n",
    "            'tanggal rilis': '20 januari',\n",
    "            'tahun': '2006'}\n",
    "\n",
    "for x in overview: \n",
    "    print(overview[x])"
   ]
  },
  {
   "cell_type": "code",
   "execution_count": 28,
   "metadata": {},
   "outputs": [
    {
     "name": "stdout",
     "output_type": "stream",
     "text": [
      "3\n"
     ]
    }
   ],
   "source": [
    "overview = {'film': 'high school musical',\n",
    "            'tanggal rilis': '20 januari',\n",
    "            'tahun': '2006'}\n",
    "\n",
    "print(len(overview))"
   ]
  },
  {
   "cell_type": "code",
   "execution_count": 29,
   "metadata": {},
   "outputs": [
    {
     "name": "stdout",
     "output_type": "stream",
     "text": [
      "{'nama': 'Elang', 'umur': '20', 'hobi': 'mengaji', 'rumah': '3', 'mobil': '3'}\n"
     ]
    }
   ],
   "source": [
    "# menambahkan item ke dictionary\n",
    "kamusdiri = {'nama': 'Elang', 'umur': '20', 'hobi': 'mengaji', 'rumah': '3'}\n",
    "kamusdiri['mobil'] = '3'\n",
    "print(kamusdiri)"
   ]
  },
  {
   "cell_type": "code",
   "execution_count": 30,
   "metadata": {},
   "outputs": [
    {
     "name": "stdout",
     "output_type": "stream",
     "text": [
      "{'nama': 'Elang', 'umur': '20', 'rumah': '3', 'mobil': '3'}\n",
      "{'nama': 'Elang', 'umur': '20', 'rumah': '3'}\n",
      "{}\n"
     ]
    }
   ],
   "source": [
    "# menghapus item dictionary dengan fungsi pop()\n",
    "kamusdiri.pop('hobi')\n",
    "print(kamusdiri)\n",
    "\n",
    "# menghapus item terakhir dengan popitem()\n",
    "kamusdiri.popitem()\n",
    "print(kamusdiri)\n",
    "\n",
    "# mengosongkan deictionary dengan fungsi clear\n",
    "kamusdiri.clear()\n",
    "print(kamusdiri)"
   ]
  },
  {
   "cell_type": "code",
   "execution_count": 2,
   "metadata": {},
   "outputs": [
    {
     "ename": "NameError",
     "evalue": "name 'kamusdiri' is not defined",
     "output_type": "error",
     "traceback": [
      "\u001b[31m---------------------------------------------------------------------------\u001b[39m",
      "\u001b[31mNameError\u001b[39m                                 Traceback (most recent call last)",
      "\u001b[36mCell\u001b[39m\u001b[36m \u001b[39m\u001b[32mIn[2]\u001b[39m\u001b[32m, line 4\u001b[39m\n\u001b[32m      2\u001b[39m kamusdiri = {\u001b[33m'\u001b[39m\u001b[33mnama\u001b[39m\u001b[33m'\u001b[39m: \u001b[33m'\u001b[39m\u001b[33mElang\u001b[39m\u001b[33m'\u001b[39m, \u001b[33m'\u001b[39m\u001b[33mumur\u001b[39m\u001b[33m'\u001b[39m: \u001b[33m'\u001b[39m\u001b[33m20\u001b[39m\u001b[33m'\u001b[39m, \u001b[33m'\u001b[39m\u001b[33mhobi\u001b[39m\u001b[33m'\u001b[39m: \u001b[33m'\u001b[39m\u001b[33mmengaji\u001b[39m\u001b[33m'\u001b[39m, \u001b[33m'\u001b[39m\u001b[33mrumah\u001b[39m\u001b[33m'\u001b[39m: \u001b[33m'\u001b[39m\u001b[33m3\u001b[39m\u001b[33m'\u001b[39m}\n\u001b[32m      3\u001b[39m \u001b[38;5;28;01mdel\u001b[39;00m kamusdiri\n\u001b[32m----> \u001b[39m\u001b[32m4\u001b[39m \u001b[38;5;28mprint\u001b[39m(\u001b[43mkamusdiri\u001b[49m)\n",
      "\u001b[31mNameError\u001b[39m: name 'kamusdiri' is not defined"
     ]
    }
   ],
   "source": [
    "# menghapus dictionary dengan del\n",
    "kamusdiri = {'nama': 'Elang', 'umur': '20', 'hobi': 'mengaji', 'rumah': '3'}\n",
    "del kamusdiri\n",
    "print(kamusdiri)"
   ]
  },
  {
   "cell_type": "code",
   "execution_count": 32,
   "metadata": {},
   "outputs": [
    {
     "name": "stdout",
     "output_type": "stream",
     "text": [
      "{'nama': 'Elang', 'umur': '20', 'rumah': '3', 'mobil': '3'}\n",
      "{'nama': 'Elang', 'umur': '20', 'rumah': '3', 'mobil': '3'}\n"
     ]
    }
   ],
   "source": [
    "# mengcopy dictionary\n",
    "kamusdiri = {'nama': 'Elang',\n",
    "             'umur': '20',\n",
    "             'rumah': '3',\n",
    "             'mobil': '3'}\n",
    "print(kamusdiri)\n",
    "\n",
    "kamusdiri2 = kamusdiri.copy()\n",
    "print(kamusdiri2)"
   ]
  },
  {
   "cell_type": "code",
   "execution_count": 33,
   "metadata": {},
   "outputs": [
    {
     "name": "stdout",
     "output_type": "stream",
     "text": [
      "{'nama': 'Elang', 'umur': '20', 'rumah': '3', 'mobil': '3'}\n"
     ]
    }
   ],
   "source": [
    "kamusdiri3 = dict(kamusdiri)\n",
    "print(kamusdiri3)"
   ]
  },
  {
   "cell_type": "code",
   "execution_count": 34,
   "metadata": {},
   "outputs": [
    {
     "name": "stdout",
     "output_type": "stream",
     "text": [
      "{'senin': {'matkul': 'kalkulus', 'sks': 3}, 'selasa': {'matkul': 'aljabar linear', 'sks': 2}, 'rabu': {'matkul': 'kimia dasar', 'sks': 2}}\n"
     ]
    }
   ],
   "source": [
    "senin = {\n",
    "        'matkul': 'kalkulus',\n",
    "        'sks': 3\n",
    "}\n",
    "selasa = {\n",
    "        'matkul': 'aljabar linear',\n",
    "        'sks': 2\n",
    "}\n",
    "rabu = {\n",
    "        'matkul': 'kimia dasar',\n",
    "        'sks': 2\n",
    "}\n",
    "\n",
    "jadwal = {\n",
    "        'senin': senin,\n",
    "        'selasa' : selasa,\n",
    "        'rabu' : rabu\n",
    "}\n",
    "\n",
    "print(jadwal)\n"
   ]
  },
  {
   "cell_type": "code",
   "execution_count": null,
   "metadata": {},
   "outputs": [],
   "source": []
  }
 ],
 "metadata": {
  "kernelspec": {
   "display_name": "Python 3",
   "language": "python",
   "name": "python3"
  },
  "language_info": {
   "codemirror_mode": {
    "name": "ipython",
    "version": 3
   },
   "file_extension": ".py",
   "mimetype": "text/x-python",
   "name": "python",
   "nbconvert_exporter": "python",
   "pygments_lexer": "ipython3",
   "version": "3.13.2"
  }
 },
 "nbformat": 4,
 "nbformat_minor": 2
}

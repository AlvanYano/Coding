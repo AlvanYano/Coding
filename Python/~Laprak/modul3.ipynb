{
 "cells": [
  {
   "cell_type": "code",
   "execution_count": 3,
   "metadata": {},
   "outputs": [
    {
     "name": "stdout",
     "output_type": "stream",
     "text": [
      "{'lisa', 'jisoo', 'jennie', 'rose'}\n",
      "<class 'set'>\n"
     ]
    }
   ],
   "source": [
    "#Menggunakan set\n",
    "setbp = {'jennie', 'rose', 'jisoo', 'lisa'}\n",
    "print(setbp)\n",
    "print(type(setbp))"
   ]
  },
  {
   "cell_type": "code",
   "execution_count": 2,
   "metadata": {},
   "outputs": [
    {
     "name": "stdout",
     "output_type": "stream",
     "text": [
      "lisa\n",
      "jisoo\n",
      "jennie\n",
      "rose\n"
     ]
    }
   ],
   "source": [
    "setbp = {'jennie', 'rose', 'jisoo', 'lisa'}\n",
    "for x in setbp:\n",
    "    print(x)"
   ]
  },
  {
   "cell_type": "code",
   "execution_count": null,
   "metadata": {},
   "outputs": [
    {
     "name": "stdout",
     "output_type": "stream",
     "text": [
      "ada dong\n"
     ]
    }
   ],
   "source": [
    "# mngecek variabel dalam set\n",
    "setbp = {'jennie', 'rose', 'jisoo', 'lisa'}\n",
    "if 'jisoo' in setbp:\n",
    "    print('ada dong')"
   ]
  },
  {
   "cell_type": "code",
   "execution_count": 9,
   "metadata": {},
   "outputs": [
    {
     "name": "stdout",
     "output_type": "stream",
     "text": [
      "4\n"
     ]
    }
   ],
   "source": [
    "# menentukan jumlah item dalam set\n",
    "setbp = {'jennie', 'rose', 'lisa', 'jisoo'}\n",
    "print(len(setbp))"
   ]
  },
  {
   "cell_type": "code",
   "execution_count": 25,
   "metadata": {},
   "outputs": [
    {
     "name": "stdout",
     "output_type": "stream",
     "text": [
      "{'jisoo', 'ryujin', 'lisa', 'jennie', 'rose'}\n",
      "{'jisoo', 'ryujin', 'lisa', 'jennie', 'minji', 'ruka', 'rose'}\n"
     ]
    }
   ],
   "source": [
    "setbp = {'jennie', 'rose', 'lisa', 'jisoo'}\n",
    "setbp.add('ryujin')\n",
    "print(setbp)\n",
    "\n",
    "setbp.update({'minji', 'ruka'})\n",
    "print(setbp)"
   ]
  },
  {
   "cell_type": "code",
   "execution_count": null,
   "metadata": {},
   "outputs": [
    {
     "name": "stdout",
     "output_type": "stream",
     "text": [
      "{'mythic glory', 'legend', 'mythic', 'epic'}\n",
      "{'mythic glory', 'mythic', 'epic'}\n"
     ]
    }
   ],
   "source": [
    "# menghapus satu elemen dalam set\n",
    "rank = {'grandmaster', 'epic', 'legend', 'mythic', 'mythic glory'}\n",
    "rank.remove('grandmaster')\n",
    "print(rank)\n",
    "\n",
    "# menghapus dengan fungsi pop()\n",
    "greece = {'zeus', 'hades', 'poseidon', 'kronos', 'kratos'}\n",
    "greece.pop()\n",
    "print(greece)\n",
    "\n",
    "# menghapus set dengan fungsi clear()\n",
    "greece = {'zeus', 'hades', 'poseidon', 'kronos', 'kratos'}\n",
    "greece.clear()\n",
    "print(greece)\n"
   ]
  },
  {
   "cell_type": "code",
   "execution_count": null,
   "metadata": {},
   "outputs": [
    {
     "name": "stdout",
     "output_type": "stream",
     "text": [
      "{'zeus', 'poseidon', 'kratos', 'kronos'}\n"
     ]
    }
   ],
   "source": []
  },
  {
   "cell_type": "code",
   "execution_count": 34,
   "metadata": {},
   "outputs": [
    {
     "name": "stdout",
     "output_type": "stream",
     "text": [
      "set()\n"
     ]
    },
    {
     "ename": "NameError",
     "evalue": "name 'greece' is not defined",
     "output_type": "error",
     "traceback": [
      "\u001b[31m---------------------------------------------------------------------------\u001b[39m",
      "\u001b[31mNameError\u001b[39m                                 Traceback (most recent call last)",
      "\u001b[36mCell\u001b[39m\u001b[36m \u001b[39m\u001b[32mIn[34]\u001b[39m\u001b[32m, line 7\u001b[39m\n\u001b[32m      4\u001b[39m \u001b[38;5;28mprint\u001b[39m(greece)\n\u001b[32m      6\u001b[39m \u001b[38;5;28;01mdel\u001b[39;00m greece\n\u001b[32m----> \u001b[39m\u001b[32m7\u001b[39m \u001b[38;5;28mprint\u001b[39m(\u001b[43mgreece\u001b[49m)\n",
      "\u001b[31mNameError\u001b[39m: name 'greece' is not defined"
     ]
    }
   ],
   "source": [
    "# menghapus set dengan fungsi clear()\n",
    "greece = {'zeus', 'hades', 'poseidon', 'kronos', 'kratos'}\n",
    "greece.clear()\n",
    "print(greece)\n",
    "\n",
    "del greece\n",
    "print(greece)"
   ]
  },
  {
   "cell_type": "code",
   "execution_count": 36,
   "metadata": {},
   "outputs": [
    {
     "name": "stdout",
     "output_type": "stream",
     "text": [
      "{'legend', 1, 2, 'grandmaster', 3, 4, 5, 'epic', 'mythic glory', 'mythic'}\n",
      "{'legend', 1, 2, 'grandmaster', 3, 4, 5, 'epic', 'mythic glory', 'mythic'}\n"
     ]
    }
   ],
   "source": [
    "# menggabungkan set\n",
    "# menggunakan union()\n",
    "rank = {'grandmaster', 'epic', 'legend', 'mythic', 'mythic glory'}\n",
    "bintang = {1, 2, 3, 4, 5}\n",
    "\n",
    "rank_bintang = rank.union(bintang)\n",
    "print(rank_bintang)\n",
    "\n",
    "# menggunakan update\n",
    "rank.update(bintang)\n",
    "print(rank)"
   ]
  },
  {
   "cell_type": "code",
   "execution_count": 38,
   "metadata": {},
   "outputs": [
    {
     "name": "stdout",
     "output_type": "stream",
     "text": [
      "{'film': 'high school musical', 'tanggal rilis': '20 januari', 'tahun': '2006'}\n",
      "<class 'dict'>\n"
     ]
    }
   ],
   "source": [
    "# dictionary\n",
    "overview = {'film': 'high school musical',\n",
    "            'tanggal rilis': '20 januari',\n",
    "            'tahun': '2006'}\n",
    "\n",
    "\n",
    "print(overview)\n",
    "print(type(overview))\n"
   ]
  },
  {
   "cell_type": "code",
   "execution_count": 43,
   "metadata": {},
   "outputs": [
    {
     "name": "stdout",
     "output_type": "stream",
     "text": [
      "high school musical\n",
      "20 januari\n",
      "high school musical\n",
      "20 januari\n"
     ]
    }
   ],
   "source": [
    "# mengakses elemen dalam dictionary\n",
    "overview = {'film': 'high school musical',\n",
    "            'tanggal rilis': '20 januari',\n",
    "            'tahun': '2006'}\n",
    "x = overview['film']\n",
    "print(x)\n",
    "\n",
    "y = overview['tanggal rilis']\n",
    "print(y)\n",
    "\n",
    "\n",
    "x = overview.get('film')\n",
    "print(x)\n",
    "y = overview.get('tanggal rilis')\n",
    "print(y)"
   ]
  },
  {
   "cell_type": "code",
   "execution_count": null,
   "metadata": {},
   "outputs": [
    {
     "name": "stdout",
     "output_type": "stream",
     "text": [
      "film awal high school musical\n",
      "film diubah max out\n"
     ]
    }
   ],
   "source": [
    "overview = {'film': 'high school musical',\n",
    "            'tanggal rilis': '20 januari',\n",
    "            'tahun': '2006'}\n",
    "print('film awal', overview.get('film'))\n",
    "overview['film'] = 'max out'\n",
    "print('film diubah', overview.get('film'))\n",
    "\n",
    "overview = {'film': 'high school musical',\n",
    "            'tanggal rilis': '20 januari',\n",
    "            'tahun': '2006'}\n",
    "\n",
    "for x in overview: \n",
    "    print(overview[x])"
   ]
  },
  {
   "cell_type": "code",
   "execution_count": 48,
   "metadata": {},
   "outputs": [
    {
     "name": "stdout",
     "output_type": "stream",
     "text": [
      "high school musical\n",
      "20 januari\n",
      "2006\n"
     ]
    }
   ],
   "source": [
    "overview = {'film': 'high school musical',\n",
    "            'tanggal rilis': '20 januari',\n",
    "            'tahun': '2006'}\n",
    "\n",
    "for x in overview: \n",
    "    print(overview[x])"
   ]
  },
  {
   "cell_type": "code",
   "execution_count": 51,
   "metadata": {},
   "outputs": [
    {
     "name": "stdout",
     "output_type": "stream",
     "text": [
      "high school musical\n",
      "20 januari\n",
      "2006\n"
     ]
    }
   ],
   "source": [
    "# menampilkan loop dengan fungsi values\n",
    "overview = {'film': 'high school musical',\n",
    "            'tanggal rilis': '20 januari',\n",
    "            'tahun': '2006'}\n",
    "\n",
    "for x in overview.values():\n",
    "    print(x)"
   ]
  },
  {
   "cell_type": "code",
   "execution_count": 54,
   "metadata": {},
   "outputs": [
    {
     "name": "stdout",
     "output_type": "stream",
     "text": [
      "film high school musical\n",
      "tanggal rilis 20 januari\n",
      "tahun 2006\n"
     ]
    }
   ],
   "source": [
    "# menampilkan loop dengan fungsi items\n",
    "overview = {'film': 'high school musical',\n",
    "            'tanggal rilis': '20 januari',\n",
    "            'tahun': '2006'}\n",
    "\n",
    "for x, y in overview.items():\n",
    "    print(x, y)"
   ]
  },
  {
   "cell_type": "code",
   "execution_count": 56,
   "metadata": {},
   "outputs": [
    {
     "name": "stdout",
     "output_type": "stream",
     "text": [
      "ya film ada di overview\n"
     ]
    }
   ],
   "source": [
    "overview = {'film': 'high school musical',\n",
    "            'tanggal rilis': '20 januari',\n",
    "            'tahun': '2006'}\n",
    "\n",
    "if 'film' in overview:\n",
    "    print('ya film ada di overview')"
   ]
  },
  {
   "cell_type": "code",
   "execution_count": 57,
   "metadata": {},
   "outputs": [
    {
     "name": "stdout",
     "output_type": "stream",
     "text": [
      "3\n"
     ]
    }
   ],
   "source": [
    "overview = {'film': 'high school musical',\n",
    "            'tanggal rilis': '20 januari',\n",
    "            'tahun': '2006'}\n",
    "\n",
    "print(len(overview))"
   ]
  },
  {
   "cell_type": "code",
   "execution_count": 61,
   "metadata": {},
   "outputs": [
    {
     "name": "stdout",
     "output_type": "stream",
     "text": [
      "{'nama': 'Elang', 'umur': '20', 'hobi': 'mengaji', 'rumah': '3', 'mobil': '3'}\n",
      "{'nama': 'Elang', 'umur': '20', 'rumah': '3', 'mobil': '3'}\n"
     ]
    }
   ],
   "source": [
    "# menambahkan item ke dictionary\n",
    "kamusdiri = {'nama': 'Elang', 'umur': '20', 'hobi': 'mengaji', 'rumah': '3'}\n",
    "kamusdiri['mobil'] = '3'\n",
    "print(kamusdiri)\n",
    "\n",
    "# menghapus item dictionary dengan fungsi pop()\n",
    "kamusdiri.pop('hobi')\n",
    "print(kamusdiri)\n"
   ]
  },
  {
   "cell_type": "code",
   "execution_count": null,
   "metadata": {},
   "outputs": [
    {
     "ename": "KeyError",
     "evalue": "'popitem(): dictionary is empty'",
     "output_type": "error",
     "traceback": [
      "\u001b[31m---------------------------------------------------------------------------\u001b[39m",
      "\u001b[31mKeyError\u001b[39m                                  Traceback (most recent call last)",
      "\u001b[36mCell\u001b[39m\u001b[36m \u001b[39m\u001b[32mIn[63]\u001b[39m\u001b[32m, line 2\u001b[39m\n\u001b[32m      1\u001b[39m \u001b[38;5;66;03m# menghapus item terakhir dengan popitem()\u001b[39;00m\n\u001b[32m----> \u001b[39m\u001b[32m2\u001b[39m \u001b[43mkamusdiri\u001b[49m\u001b[43m.\u001b[49m\u001b[43mpopitem\u001b[49m\u001b[43m(\u001b[49m\u001b[43m)\u001b[49m\n\u001b[32m      3\u001b[39m \u001b[38;5;28mprint\u001b[39m(kamusdiri)\n\u001b[32m      5\u001b[39m \u001b[38;5;66;03m# mengosongkan deictionary dengan fungsi clear\u001b[39;00m\n",
      "\u001b[31mKeyError\u001b[39m: 'popitem(): dictionary is empty'"
     ]
    }
   ],
   "source": [
    "# menghapus item dictionary dengan fungsi pop()\n",
    "kamusdiri.pop('hobi')\n",
    "print(kamusdiri)\n",
    "\n",
    "# menghapus item terakhir dengan popitem()\n",
    "kamusdiri.popitem()\n",
    "print(kamusdiri)\n",
    "\n",
    "# mengosongkan deictionary dengan fungsi clear\n",
    "kamusdiri.clear()\n",
    "print(kamusdiri)"
   ]
  },
  {
   "cell_type": "code",
   "execution_count": 65,
   "metadata": {},
   "outputs": [
    {
     "ename": "NameError",
     "evalue": "name 'kamusdiri' is not defined",
     "output_type": "error",
     "traceback": [
      "\u001b[31m---------------------------------------------------------------------------\u001b[39m",
      "\u001b[31mNameError\u001b[39m                                 Traceback (most recent call last)",
      "\u001b[36mCell\u001b[39m\u001b[36m \u001b[39m\u001b[32mIn[65]\u001b[39m\u001b[32m, line 2\u001b[39m\n\u001b[32m      1\u001b[39m \u001b[38;5;66;03m# menghapus dictionary dengan del\u001b[39;00m\n\u001b[32m----> \u001b[39m\u001b[32m2\u001b[39m \u001b[38;5;28;01mdel\u001b[39;00m \u001b[43mkamusdiri\u001b[49m\n\u001b[32m      3\u001b[39m \u001b[38;5;28mprint\u001b[39m(kamusdiri)\n",
      "\u001b[31mNameError\u001b[39m: name 'kamusdiri' is not defined"
     ]
    }
   ],
   "source": [
    "# menghapus dictionary dengan del\n",
    "del kamusdiri\n",
    "print(kamusdiri)"
   ]
  },
  {
   "cell_type": "code",
   "execution_count": 68,
   "metadata": {},
   "outputs": [
    {
     "name": "stdout",
     "output_type": "stream",
     "text": [
      "{'nama': 'Elang', 'umur': '20', 'rumah': '3', 'mobil': '3'}\n"
     ]
    }
   ],
   "source": [
    "# mengcopy dictionary\n",
    "kamusdiri = {'nama': 'Elang',\n",
    "             'umur': '20',\n",
    "             'rumah': '3',\n",
    "             'mobil': '3'}\n",
    "print(kamusdiri)"
   ]
  },
  {
   "cell_type": "code",
   "execution_count": 69,
   "metadata": {},
   "outputs": [
    {
     "name": "stdout",
     "output_type": "stream",
     "text": [
      "{'nama': 'Elang', 'umur': '20', 'rumah': '3', 'mobil': '3'}\n"
     ]
    }
   ],
   "source": [
    "kamusdiri2 = kamusdiri.copy()\n",
    "print(kamusdiri2)"
   ]
  },
  {
   "cell_type": "code",
   "execution_count": 70,
   "metadata": {},
   "outputs": [
    {
     "name": "stdout",
     "output_type": "stream",
     "text": [
      "{'nama': 'Elang', 'umur': '20', 'rumah': '3', 'mobil': '3'}\n"
     ]
    }
   ],
   "source": [
    "kamusdiri3 = dict(kamusdiri)\n",
    "print(kamusdiri3)"
   ]
  },
  {
   "cell_type": "code",
   "execution_count": null,
   "metadata": {},
   "outputs": [],
   "source": [
    "# membuat dictionary bersarang\n",
    "datadiri = {'orang1': {\n",
    "            'nama': 'tasya',\n",
    "            'idol': 'Twice', \n",
    "            'hobi': 'masak', \n",
    "            'umur': '19'},\n",
    "\n",
    "\n",
    "            'orang2': {\n",
    "            'nama': 'galang', \n",
    "            'hobi': 'masak',\n",
    "            'umur': '19'},\n",
    "\n",
    "            'orang3': {\n",
    "                \n",
    "            }\n",
    "            \n",
    "            }"
   ]
  },
  {
   "cell_type": "code",
   "execution_count": null,
   "metadata": {},
   "outputs": [
    {
     "name": "stdout",
     "output_type": "stream",
     "text": [
      "{'senin': {'matkul': 'aljabar linear', 'sks': 2}, 'rabu': {'matkul': 'kimia dasar', 'sks': 2}}\n"
     ]
    }
   ],
   "source": [
    "senin = {\n",
    "        'matkul': 'kalkulus',\n",
    "        'sks': 3\n",
    "}\n",
    "selasa = {\n",
    "        'matkul': 'aljabar linear',\n",
    "        'sks': 2\n",
    "}\n",
    "rabu = {\n",
    "        'matkul': 'kimia dasar',\n",
    "        'sks': 2\n",
    "}\n",
    "\n",
    "jadwal = {\n",
    "        'senin': senin,\n",
    "        'selasa' : selasa,\n",
    "        'rabu' : rabu\n",
    "}\n",
    "\n",
    "print(jadwal)\n"
   ]
  }
 ],
 "metadata": {
  "kernelspec": {
   "display_name": "Python 3",
   "language": "python",
   "name": "python3"
  },
  "language_info": {
   "codemirror_mode": {
    "name": "ipython",
    "version": 3
   },
   "file_extension": ".py",
   "mimetype": "text/x-python",
   "name": "python",
   "nbconvert_exporter": "python",
   "pygments_lexer": "ipython3",
   "version": "3.11.9"
  }
 },
 "nbformat": 4,
 "nbformat_minor": 2
}
